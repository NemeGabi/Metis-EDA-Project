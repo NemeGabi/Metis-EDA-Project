{
 "cells": [
  {
   "cell_type": "code",
   "execution_count": 4,
   "metadata": {},
   "outputs": [],
   "source": [
    "import pandas as pd\n",
    "import datetime\n",
    "import matplotlib.pyplot as plt\n",
    "import numpy as np\n",
    "from sqlalchemy import create_engine\n",
    "\n",
    "\n",
    "%config InlineBackend.figure_format = 'png'\n",
    "%matplotlib inline "
   ]
  },
  {
   "cell_type": "code",
   "execution_count": 12,
   "metadata": {},
   "outputs": [],
   "source": [
    "# Download the data files from MTA's website \n",
    "\n",
    "def get_data(week_nums):\n",
    "    url = \"http://web.mta.info/developers/data/nyct/turnstile/turnstile_{}.txt\" \n",
    "    dfs = []\n",
    "    for week_num in week_nums:\n",
    "        file_url = url.format(week_num)\n",
    "        dfs.append(pd.read_csv(file_url))\n",
    "    return pd.concat(dfs)\n",
    "        \n",
    "week_nums = [201107, 201114, 201121, 201128, 201205, 201212, 201219, 201226, 210102, 210109, 210116, 210123, 210130, 210206]\n",
    "df_5 = get_data(week_nums)"
   ]
  },
  {
   "cell_type": "code",
   "execution_count": 14,
   "metadata": {},
   "outputs": [],
   "source": [
    "df_5.to_csv('mta_data_all_5.csv', header = False, index = False)"
   ]
  },
  {
   "cell_type": "code",
   "execution_count": 16,
   "metadata": {},
   "outputs": [],
   "source": [
    "engine = create_engine(\"sqlite:///mta5.db\")\n",
    "all_data = pd.read_sql('SELECT * FROM mta_data;', engine)"
   ]
  },
  {
   "cell_type": "code",
   "execution_count": 18,
   "metadata": {},
   "outputs": [
    {
     "data": {
      "text/html": [
       "<div>\n",
       "<style scoped>\n",
       "    .dataframe tbody tr th:only-of-type {\n",
       "        vertical-align: middle;\n",
       "    }\n",
       "\n",
       "    .dataframe tbody tr th {\n",
       "        vertical-align: top;\n",
       "    }\n",
       "\n",
       "    .dataframe thead th {\n",
       "        text-align: right;\n",
       "    }\n",
       "</style>\n",
       "<table border=\"1\" class=\"dataframe\">\n",
       "  <thead>\n",
       "    <tr style=\"text-align: right;\">\n",
       "      <th></th>\n",
       "      <th>CA</th>\n",
       "      <th>UNIT</th>\n",
       "      <th>SCP</th>\n",
       "      <th>STATION</th>\n",
       "      <th>LINENAME</th>\n",
       "      <th>DIVISION</th>\n",
       "      <th>DATE</th>\n",
       "      <th>TIME</th>\n",
       "      <th>DESC</th>\n",
       "      <th>ENTRIES</th>\n",
       "      <th>EXITS</th>\n",
       "    </tr>\n",
       "  </thead>\n",
       "  <tbody>\n",
       "    <tr>\n",
       "      <th>0</th>\n",
       "      <td>A002</td>\n",
       "      <td>R051</td>\n",
       "      <td>02-00-00</td>\n",
       "      <td>59 ST</td>\n",
       "      <td>NQR456W</td>\n",
       "      <td>BMT</td>\n",
       "      <td>10/31/2020</td>\n",
       "      <td>00:00:00</td>\n",
       "      <td>REGULAR</td>\n",
       "      <td>7481098</td>\n",
       "      <td>2545767</td>\n",
       "    </tr>\n",
       "    <tr>\n",
       "      <th>1</th>\n",
       "      <td>A002</td>\n",
       "      <td>R051</td>\n",
       "      <td>02-00-00</td>\n",
       "      <td>59 ST</td>\n",
       "      <td>NQR456W</td>\n",
       "      <td>BMT</td>\n",
       "      <td>10/31/2020</td>\n",
       "      <td>04:00:00</td>\n",
       "      <td>REGULAR</td>\n",
       "      <td>7481103</td>\n",
       "      <td>2545767</td>\n",
       "    </tr>\n",
       "    <tr>\n",
       "      <th>2</th>\n",
       "      <td>A002</td>\n",
       "      <td>R051</td>\n",
       "      <td>02-00-00</td>\n",
       "      <td>59 ST</td>\n",
       "      <td>NQR456W</td>\n",
       "      <td>BMT</td>\n",
       "      <td>10/31/2020</td>\n",
       "      <td>08:00:00</td>\n",
       "      <td>REGULAR</td>\n",
       "      <td>7481117</td>\n",
       "      <td>2545786</td>\n",
       "    </tr>\n",
       "    <tr>\n",
       "      <th>3</th>\n",
       "      <td>A002</td>\n",
       "      <td>R051</td>\n",
       "      <td>02-00-00</td>\n",
       "      <td>59 ST</td>\n",
       "      <td>NQR456W</td>\n",
       "      <td>BMT</td>\n",
       "      <td>10/31/2020</td>\n",
       "      <td>12:00:00</td>\n",
       "      <td>REGULAR</td>\n",
       "      <td>7481158</td>\n",
       "      <td>2545831</td>\n",
       "    </tr>\n",
       "    <tr>\n",
       "      <th>4</th>\n",
       "      <td>A002</td>\n",
       "      <td>R051</td>\n",
       "      <td>02-00-00</td>\n",
       "      <td>59 ST</td>\n",
       "      <td>NQR456W</td>\n",
       "      <td>BMT</td>\n",
       "      <td>10/31/2020</td>\n",
       "      <td>16:00:00</td>\n",
       "      <td>REGULAR</td>\n",
       "      <td>7481285</td>\n",
       "      <td>2545868</td>\n",
       "    </tr>\n",
       "  </tbody>\n",
       "</table>\n",
       "</div>"
      ],
      "text/plain": [
       "     CA  UNIT       SCP STATION LINENAME DIVISION        DATE      TIME  \\\n",
       "0  A002  R051  02-00-00   59 ST  NQR456W      BMT  10/31/2020  00:00:00   \n",
       "1  A002  R051  02-00-00   59 ST  NQR456W      BMT  10/31/2020  04:00:00   \n",
       "2  A002  R051  02-00-00   59 ST  NQR456W      BMT  10/31/2020  08:00:00   \n",
       "3  A002  R051  02-00-00   59 ST  NQR456W      BMT  10/31/2020  12:00:00   \n",
       "4  A002  R051  02-00-00   59 ST  NQR456W      BMT  10/31/2020  16:00:00   \n",
       "\n",
       "      DESC  ENTRIES    EXITS  \n",
       "0  REGULAR  7481098  2545767  \n",
       "1  REGULAR  7481103  2545767  \n",
       "2  REGULAR  7481117  2545786  \n",
       "3  REGULAR  7481158  2545831  \n",
       "4  REGULAR  7481285  2545868  "
      ]
     },
     "execution_count": 18,
     "metadata": {},
     "output_type": "execute_result"
    }
   ],
   "source": [
    "all_data.head()"
   ]
  },
  {
   "cell_type": "code",
   "execution_count": 37,
   "metadata": {},
   "outputs": [
    {
     "data": {
      "text/html": [
       "<div>\n",
       "<style scoped>\n",
       "    .dataframe tbody tr th:only-of-type {\n",
       "        vertical-align: middle;\n",
       "    }\n",
       "\n",
       "    .dataframe tbody tr th {\n",
       "        vertical-align: top;\n",
       "    }\n",
       "\n",
       "    .dataframe thead th {\n",
       "        text-align: right;\n",
       "    }\n",
       "</style>\n",
       "<table border=\"1\" class=\"dataframe\">\n",
       "  <thead>\n",
       "    <tr style=\"text-align: right;\">\n",
       "      <th></th>\n",
       "      <th>COUNT(*)</th>\n",
       "    </tr>\n",
       "  </thead>\n",
       "  <tbody>\n",
       "    <tr>\n",
       "      <th>0</th>\n",
       "      <td>2942639</td>\n",
       "    </tr>\n",
       "  </tbody>\n",
       "</table>\n",
       "</div>"
      ],
      "text/plain": [
       "   COUNT(*)\n",
       "0   2942639"
      ]
     },
     "execution_count": 37,
     "metadata": {},
     "output_type": "execute_result"
    }
   ],
   "source": [
    "# The total number of rows in the table\n",
    "\n",
    "pd.read_sql('SELECT COUNT(*) FROM mta_data',engine)"
   ]
  },
  {
   "cell_type": "code",
   "execution_count": 29,
   "metadata": {},
   "outputs": [
    {
     "data": {
      "text/html": [
       "<div>\n",
       "<style scoped>\n",
       "    .dataframe tbody tr th:only-of-type {\n",
       "        vertical-align: middle;\n",
       "    }\n",
       "\n",
       "    .dataframe tbody tr th {\n",
       "        vertical-align: top;\n",
       "    }\n",
       "\n",
       "    .dataframe thead th {\n",
       "        text-align: right;\n",
       "    }\n",
       "</style>\n",
       "<table border=\"1\" class=\"dataframe\">\n",
       "  <thead>\n",
       "    <tr style=\"text-align: right;\">\n",
       "      <th></th>\n",
       "      <th>DESC</th>\n",
       "    </tr>\n",
       "  </thead>\n",
       "  <tbody>\n",
       "    <tr>\n",
       "      <th>0</th>\n",
       "      <td>REGULAR</td>\n",
       "    </tr>\n",
       "    <tr>\n",
       "      <th>1</th>\n",
       "      <td>RECOVR AUD</td>\n",
       "    </tr>\n",
       "  </tbody>\n",
       "</table>\n",
       "</div>"
      ],
      "text/plain": [
       "         DESC\n",
       "0     REGULAR\n",
       "1  RECOVR AUD"
      ]
     },
     "execution_count": 29,
     "metadata": {},
     "output_type": "execute_result"
    }
   ],
   "source": [
    "# The unique values of column \"DESC\"\n",
    "\n",
    "pd.read_sql('SELECT DISTINCT DESC FROM mta_data',engine)"
   ]
  },
  {
   "cell_type": "code",
   "execution_count": 30,
   "metadata": {},
   "outputs": [
    {
     "data": {
      "text/html": [
       "<div>\n",
       "<style scoped>\n",
       "    .dataframe tbody tr th:only-of-type {\n",
       "        vertical-align: middle;\n",
       "    }\n",
       "\n",
       "    .dataframe tbody tr th {\n",
       "        vertical-align: top;\n",
       "    }\n",
       "\n",
       "    .dataframe thead th {\n",
       "        text-align: right;\n",
       "    }\n",
       "</style>\n",
       "<table border=\"1\" class=\"dataframe\">\n",
       "  <thead>\n",
       "    <tr style=\"text-align: right;\">\n",
       "      <th></th>\n",
       "      <th>COUNT(*)</th>\n",
       "    </tr>\n",
       "  </thead>\n",
       "  <tbody>\n",
       "    <tr>\n",
       "      <th>0</th>\n",
       "      <td>11162</td>\n",
       "    </tr>\n",
       "  </tbody>\n",
       "</table>\n",
       "</div>"
      ],
      "text/plain": [
       "   COUNT(*)\n",
       "0     11162"
      ]
     },
     "execution_count": 30,
     "metadata": {},
     "output_type": "execute_result"
    }
   ],
   "source": [
    "# The number of rows where the audit of counter was distructed\n",
    "\n",
    "pd.read_sql('SELECT COUNT(*) FROM mta_data WHERE DESC == \"RECOVR AUD\"',engine)"
   ]
  },
  {
   "cell_type": "code",
   "execution_count": 31,
   "metadata": {},
   "outputs": [
    {
     "data": {
      "text/html": [
       "<div>\n",
       "<style scoped>\n",
       "    .dataframe tbody tr th:only-of-type {\n",
       "        vertical-align: middle;\n",
       "    }\n",
       "\n",
       "    .dataframe tbody tr th {\n",
       "        vertical-align: top;\n",
       "    }\n",
       "\n",
       "    .dataframe thead th {\n",
       "        text-align: right;\n",
       "    }\n",
       "</style>\n",
       "<table border=\"1\" class=\"dataframe\">\n",
       "  <thead>\n",
       "    <tr style=\"text-align: right;\">\n",
       "      <th></th>\n",
       "      <th>CA</th>\n",
       "      <th>UNIT</th>\n",
       "      <th>SCP</th>\n",
       "      <th>STATION</th>\n",
       "      <th>LINENAME</th>\n",
       "      <th>DIVISION</th>\n",
       "      <th>DATE</th>\n",
       "      <th>TIME</th>\n",
       "      <th>DESC</th>\n",
       "      <th>ENTRIES</th>\n",
       "      <th>EXITS</th>\n",
       "    </tr>\n",
       "  </thead>\n",
       "  <tbody>\n",
       "    <tr>\n",
       "      <th>0</th>\n",
       "      <td>A002</td>\n",
       "      <td>R051</td>\n",
       "      <td>02-00-00</td>\n",
       "      <td>59 ST</td>\n",
       "      <td>NQR456W</td>\n",
       "      <td>BMT</td>\n",
       "      <td>01/01/2021</td>\n",
       "      <td>03:00:00</td>\n",
       "      <td>REGULAR</td>\n",
       "      <td>7511448</td>\n",
       "      <td>2558786</td>\n",
       "    </tr>\n",
       "    <tr>\n",
       "      <th>1</th>\n",
       "      <td>A002</td>\n",
       "      <td>R051</td>\n",
       "      <td>02-00-00</td>\n",
       "      <td>59 ST</td>\n",
       "      <td>NQR456W</td>\n",
       "      <td>BMT</td>\n",
       "      <td>01/01/2021</td>\n",
       "      <td>07:00:00</td>\n",
       "      <td>REGULAR</td>\n",
       "      <td>7511451</td>\n",
       "      <td>2558789</td>\n",
       "    </tr>\n",
       "    <tr>\n",
       "      <th>2</th>\n",
       "      <td>A002</td>\n",
       "      <td>R051</td>\n",
       "      <td>02-00-00</td>\n",
       "      <td>59 ST</td>\n",
       "      <td>NQR456W</td>\n",
       "      <td>BMT</td>\n",
       "      <td>01/01/2021</td>\n",
       "      <td>11:00:00</td>\n",
       "      <td>REGULAR</td>\n",
       "      <td>7511461</td>\n",
       "      <td>2558813</td>\n",
       "    </tr>\n",
       "    <tr>\n",
       "      <th>3</th>\n",
       "      <td>A002</td>\n",
       "      <td>R051</td>\n",
       "      <td>02-00-00</td>\n",
       "      <td>59 ST</td>\n",
       "      <td>NQR456W</td>\n",
       "      <td>BMT</td>\n",
       "      <td>01/01/2021</td>\n",
       "      <td>15:00:00</td>\n",
       "      <td>REGULAR</td>\n",
       "      <td>7511495</td>\n",
       "      <td>2558831</td>\n",
       "    </tr>\n",
       "    <tr>\n",
       "      <th>4</th>\n",
       "      <td>A002</td>\n",
       "      <td>R051</td>\n",
       "      <td>02-00-00</td>\n",
       "      <td>59 ST</td>\n",
       "      <td>NQR456W</td>\n",
       "      <td>BMT</td>\n",
       "      <td>01/01/2021</td>\n",
       "      <td>19:00:00</td>\n",
       "      <td>REGULAR</td>\n",
       "      <td>7511620</td>\n",
       "      <td>2558857</td>\n",
       "    </tr>\n",
       "  </tbody>\n",
       "</table>\n",
       "</div>"
      ],
      "text/plain": [
       "     CA  UNIT       SCP STATION LINENAME DIVISION        DATE      TIME  \\\n",
       "0  A002  R051  02-00-00   59 ST  NQR456W      BMT  01/01/2021  03:00:00   \n",
       "1  A002  R051  02-00-00   59 ST  NQR456W      BMT  01/01/2021  07:00:00   \n",
       "2  A002  R051  02-00-00   59 ST  NQR456W      BMT  01/01/2021  11:00:00   \n",
       "3  A002  R051  02-00-00   59 ST  NQR456W      BMT  01/01/2021  15:00:00   \n",
       "4  A002  R051  02-00-00   59 ST  NQR456W      BMT  01/01/2021  19:00:00   \n",
       "\n",
       "      DESC  ENTRIES    EXITS  \n",
       "0  REGULAR  7511448  2558786  \n",
       "1  REGULAR  7511451  2558789  \n",
       "2  REGULAR  7511461  2558813  \n",
       "3  REGULAR  7511495  2558831  \n",
       "4  REGULAR  7511620  2558857  "
      ]
     },
     "execution_count": 31,
     "metadata": {},
     "output_type": "execute_result"
    }
   ],
   "source": [
    "pd.read_sql('SELECT * FROM mta_data ORDER BY DATE',engine).head()"
   ]
  },
  {
   "cell_type": "code",
   "execution_count": 39,
   "metadata": {},
   "outputs": [
    {
     "data": {
      "text/html": [
       "<div>\n",
       "<style scoped>\n",
       "    .dataframe tbody tr th:only-of-type {\n",
       "        vertical-align: middle;\n",
       "    }\n",
       "\n",
       "    .dataframe tbody tr th {\n",
       "        vertical-align: top;\n",
       "    }\n",
       "\n",
       "    .dataframe thead th {\n",
       "        text-align: right;\n",
       "    }\n",
       "</style>\n",
       "<table border=\"1\" class=\"dataframe\">\n",
       "  <thead>\n",
       "    <tr style=\"text-align: right;\">\n",
       "      <th></th>\n",
       "      <th>COUNT(*)</th>\n",
       "    </tr>\n",
       "  </thead>\n",
       "  <tbody>\n",
       "    <tr>\n",
       "      <th>0</th>\n",
       "      <td>180822</td>\n",
       "    </tr>\n",
       "  </tbody>\n",
       "</table>\n",
       "</div>"
      ],
      "text/plain": [
       "   COUNT(*)\n",
       "0    180822"
      ]
     },
     "execution_count": 39,
     "metadata": {},
     "output_type": "execute_result"
    }
   ],
   "source": [
    "# The number of rows where the date is not in the investigated period (NOV - JAN)\n",
    "\n",
    "pd.read_sql('SELECT COUNT(*) FROM mta_data WHERE DATE LIKE \"10%\" OR DATE LIKE \"02%\"', engine)"
   ]
  },
  {
   "cell_type": "code",
   "execution_count": 41,
   "metadata": {},
   "outputs": [
    {
     "data": {
      "text/html": [
       "<div>\n",
       "<style scoped>\n",
       "    .dataframe tbody tr th:only-of-type {\n",
       "        vertical-align: middle;\n",
       "    }\n",
       "\n",
       "    .dataframe tbody tr th {\n",
       "        vertical-align: top;\n",
       "    }\n",
       "\n",
       "    .dataframe thead th {\n",
       "        text-align: right;\n",
       "    }\n",
       "</style>\n",
       "<table border=\"1\" class=\"dataframe\">\n",
       "  <thead>\n",
       "    <tr style=\"text-align: right;\">\n",
       "      <th></th>\n",
       "      <th>COUNT(DISTINCT TIME)</th>\n",
       "    </tr>\n",
       "  </thead>\n",
       "  <tbody>\n",
       "    <tr>\n",
       "      <th>0</th>\n",
       "      <td>55803</td>\n",
       "    </tr>\n",
       "  </tbody>\n",
       "</table>\n",
       "</div>"
      ],
      "text/plain": [
       "   COUNT(DISTINCT TIME)\n",
       "0                 55803"
      ]
     },
     "execution_count": 41,
     "metadata": {},
     "output_type": "execute_result"
    }
   ],
   "source": [
    "pd.read_sql('SELECT COUNT(DISTINCT TIME) FROM mta_data',engine)"
   ]
  },
  {
   "cell_type": "code",
   "execution_count": 44,
   "metadata": {},
   "outputs": [
    {
     "data": {
      "text/html": [
       "<div>\n",
       "<style scoped>\n",
       "    .dataframe tbody tr th:only-of-type {\n",
       "        vertical-align: middle;\n",
       "    }\n",
       "\n",
       "    .dataframe tbody tr th {\n",
       "        vertical-align: top;\n",
       "    }\n",
       "\n",
       "    .dataframe thead th {\n",
       "        text-align: right;\n",
       "    }\n",
       "</style>\n",
       "<table border=\"1\" class=\"dataframe\">\n",
       "  <thead>\n",
       "    <tr style=\"text-align: right;\">\n",
       "      <th></th>\n",
       "      <th>STATION</th>\n",
       "      <th>SUM(ENTRIES)</th>\n",
       "    </tr>\n",
       "  </thead>\n",
       "  <tbody>\n",
       "    <tr>\n",
       "      <th>0</th>\n",
       "      <td>1 AV</td>\n",
       "      <td>275916927334</td>\n",
       "    </tr>\n",
       "    <tr>\n",
       "      <th>1</th>\n",
       "      <td>103 ST</td>\n",
       "      <td>79383543002</td>\n",
       "    </tr>\n",
       "    <tr>\n",
       "      <th>2</th>\n",
       "      <td>103 ST-CORONA</td>\n",
       "      <td>37472645330</td>\n",
       "    </tr>\n",
       "    <tr>\n",
       "      <th>3</th>\n",
       "      <td>104 ST</td>\n",
       "      <td>994725648708</td>\n",
       "    </tr>\n",
       "    <tr>\n",
       "      <th>4</th>\n",
       "      <td>110 ST</td>\n",
       "      <td>24245148515</td>\n",
       "    </tr>\n",
       "    <tr>\n",
       "      <th>...</th>\n",
       "      <td>...</td>\n",
       "      <td>...</td>\n",
       "    </tr>\n",
       "    <tr>\n",
       "      <th>373</th>\n",
       "      <td>WOODLAWN</td>\n",
       "      <td>19412440969</td>\n",
       "    </tr>\n",
       "    <tr>\n",
       "      <th>374</th>\n",
       "      <td>WORLD TRADE CTR</td>\n",
       "      <td>941968634938</td>\n",
       "    </tr>\n",
       "    <tr>\n",
       "      <th>375</th>\n",
       "      <td>WTC-CORTLANDT</td>\n",
       "      <td>433042636583</td>\n",
       "    </tr>\n",
       "    <tr>\n",
       "      <th>376</th>\n",
       "      <td>YORK ST</td>\n",
       "      <td>17424098719</td>\n",
       "    </tr>\n",
       "    <tr>\n",
       "      <th>377</th>\n",
       "      <td>ZEREGA AV</td>\n",
       "      <td>1582732655</td>\n",
       "    </tr>\n",
       "  </tbody>\n",
       "</table>\n",
       "<p>378 rows × 2 columns</p>\n",
       "</div>"
      ],
      "text/plain": [
       "             STATION  SUM(ENTRIES)\n",
       "0               1 AV  275916927334\n",
       "1             103 ST   79383543002\n",
       "2      103 ST-CORONA   37472645330\n",
       "3             104 ST  994725648708\n",
       "4             110 ST   24245148515\n",
       "..               ...           ...\n",
       "373         WOODLAWN   19412440969\n",
       "374  WORLD TRADE CTR  941968634938\n",
       "375    WTC-CORTLANDT  433042636583\n",
       "376          YORK ST   17424098719\n",
       "377        ZEREGA AV    1582732655\n",
       "\n",
       "[378 rows x 2 columns]"
      ]
     },
     "execution_count": 44,
     "metadata": {},
     "output_type": "execute_result"
    }
   ],
   "source": [
    "#The sum entries of the stations are too high, possible issue with the ENTRIES values\n",
    "\n",
    "pd.read_sql('SELECT STATION, SUM(ENTRIES) FROM mta_data GROUP BY STATION', engine)"
   ]
  },
  {
   "cell_type": "code",
   "execution_count": null,
   "metadata": {},
   "outputs": [],
   "source": [
    "# Lets start to further exploring with pandas"
   ]
  },
  {
   "cell_type": "code",
   "execution_count": 48,
   "metadata": {},
   "outputs": [
    {
     "data": {
      "text/plain": [
       "Index(['C/A', 'UNIT', 'SCP', 'STATION', 'LINENAME', 'DIVISION', 'DATE', 'TIME',\n",
       "       'DESC', 'ENTRIES',\n",
       "       'EXITS                                                               ',\n",
       "       'DATE_TIME'],\n",
       "      dtype='object')"
      ]
     },
     "execution_count": 48,
     "metadata": {},
     "output_type": "execute_result"
    }
   ],
   "source": [
    "df_5.columns"
   ]
  },
  {
   "cell_type": "code",
   "execution_count": 109,
   "metadata": {},
   "outputs": [],
   "source": [
    "df_5.columns = [column.strip() for column in df_5.columns]"
   ]
  },
  {
   "cell_type": "code",
   "execution_count": 108,
   "metadata": {},
   "outputs": [],
   "source": [
    "df_5.rename(columns = {'STATION' : 'STATION_2'}, inplace = True)"
   ]
  },
  {
   "cell_type": "code",
   "execution_count": 110,
   "metadata": {},
   "outputs": [
    {
     "data": {
      "text/plain": [
       "Index(['C/A', 'UNIT', 'SCP', 'STATION_2', 'LINENAME', 'DIVISION', 'DATE',\n",
       "       'TIME', 'DESC', 'ENTRIES', 'EXITS', 'DATE_TIME'],\n",
       "      dtype='object')"
      ]
     },
     "execution_count": 110,
     "metadata": {},
     "output_type": "execute_result"
    }
   ],
   "source": [
    "df_5.columns"
   ]
  },
  {
   "cell_type": "code",
   "execution_count": 111,
   "metadata": {},
   "outputs": [],
   "source": [
    "df_5[\"STATION\"] = df_5[\"STATION_2\"] + \" \"+ df_5[\"LINENAME\"]"
   ]
  },
  {
   "cell_type": "code",
   "execution_count": 112,
   "metadata": {},
   "outputs": [
    {
     "data": {
      "text/html": [
       "<div>\n",
       "<style scoped>\n",
       "    .dataframe tbody tr th:only-of-type {\n",
       "        vertical-align: middle;\n",
       "    }\n",
       "\n",
       "    .dataframe tbody tr th {\n",
       "        vertical-align: top;\n",
       "    }\n",
       "\n",
       "    .dataframe thead th {\n",
       "        text-align: right;\n",
       "    }\n",
       "</style>\n",
       "<table border=\"1\" class=\"dataframe\">\n",
       "  <thead>\n",
       "    <tr style=\"text-align: right;\">\n",
       "      <th></th>\n",
       "      <th>C/A</th>\n",
       "      <th>UNIT</th>\n",
       "      <th>SCP</th>\n",
       "      <th>STATION_2</th>\n",
       "      <th>LINENAME</th>\n",
       "      <th>DIVISION</th>\n",
       "      <th>DATE</th>\n",
       "      <th>TIME</th>\n",
       "      <th>DESC</th>\n",
       "      <th>ENTRIES</th>\n",
       "      <th>EXITS</th>\n",
       "      <th>DATE_TIME</th>\n",
       "      <th>STATION</th>\n",
       "    </tr>\n",
       "  </thead>\n",
       "  <tbody>\n",
       "    <tr>\n",
       "      <th>209078</th>\n",
       "      <td>TRAM2</td>\n",
       "      <td>R469</td>\n",
       "      <td>00-05-01</td>\n",
       "      <td>RIT-ROOSEVELT</td>\n",
       "      <td>R</td>\n",
       "      <td>RIT</td>\n",
       "      <td>02/05/2021</td>\n",
       "      <td>20:00:00</td>\n",
       "      <td>REGULAR</td>\n",
       "      <td>5554</td>\n",
       "      <td>544</td>\n",
       "      <td>2021-02-05 20:00:00</td>\n",
       "      <td>RIT-ROOSEVELT R</td>\n",
       "    </tr>\n",
       "    <tr>\n",
       "      <th>209077</th>\n",
       "      <td>TRAM2</td>\n",
       "      <td>R469</td>\n",
       "      <td>00-05-01</td>\n",
       "      <td>RIT-ROOSEVELT</td>\n",
       "      <td>R</td>\n",
       "      <td>RIT</td>\n",
       "      <td>02/05/2021</td>\n",
       "      <td>16:00:00</td>\n",
       "      <td>REGULAR</td>\n",
       "      <td>5554</td>\n",
       "      <td>544</td>\n",
       "      <td>2021-02-05 16:00:00</td>\n",
       "      <td>RIT-ROOSEVELT R</td>\n",
       "    </tr>\n",
       "    <tr>\n",
       "      <th>209076</th>\n",
       "      <td>TRAM2</td>\n",
       "      <td>R469</td>\n",
       "      <td>00-05-01</td>\n",
       "      <td>RIT-ROOSEVELT</td>\n",
       "      <td>R</td>\n",
       "      <td>RIT</td>\n",
       "      <td>02/05/2021</td>\n",
       "      <td>12:00:00</td>\n",
       "      <td>REGULAR</td>\n",
       "      <td>5554</td>\n",
       "      <td>544</td>\n",
       "      <td>2021-02-05 12:00:00</td>\n",
       "      <td>RIT-ROOSEVELT R</td>\n",
       "    </tr>\n",
       "    <tr>\n",
       "      <th>209075</th>\n",
       "      <td>TRAM2</td>\n",
       "      <td>R469</td>\n",
       "      <td>00-05-01</td>\n",
       "      <td>RIT-ROOSEVELT</td>\n",
       "      <td>R</td>\n",
       "      <td>RIT</td>\n",
       "      <td>02/05/2021</td>\n",
       "      <td>08:00:00</td>\n",
       "      <td>REGULAR</td>\n",
       "      <td>5554</td>\n",
       "      <td>544</td>\n",
       "      <td>2021-02-05 08:00:00</td>\n",
       "      <td>RIT-ROOSEVELT R</td>\n",
       "    </tr>\n",
       "    <tr>\n",
       "      <th>209074</th>\n",
       "      <td>TRAM2</td>\n",
       "      <td>R469</td>\n",
       "      <td>00-05-01</td>\n",
       "      <td>RIT-ROOSEVELT</td>\n",
       "      <td>R</td>\n",
       "      <td>RIT</td>\n",
       "      <td>02/05/2021</td>\n",
       "      <td>04:00:00</td>\n",
       "      <td>REGULAR</td>\n",
       "      <td>5554</td>\n",
       "      <td>544</td>\n",
       "      <td>2021-02-05 04:00:00</td>\n",
       "      <td>RIT-ROOSEVELT R</td>\n",
       "    </tr>\n",
       "  </tbody>\n",
       "</table>\n",
       "</div>"
      ],
      "text/plain": [
       "          C/A  UNIT       SCP      STATION_2 LINENAME DIVISION        DATE  \\\n",
       "209078  TRAM2  R469  00-05-01  RIT-ROOSEVELT        R      RIT  02/05/2021   \n",
       "209077  TRAM2  R469  00-05-01  RIT-ROOSEVELT        R      RIT  02/05/2021   \n",
       "209076  TRAM2  R469  00-05-01  RIT-ROOSEVELT        R      RIT  02/05/2021   \n",
       "209075  TRAM2  R469  00-05-01  RIT-ROOSEVELT        R      RIT  02/05/2021   \n",
       "209074  TRAM2  R469  00-05-01  RIT-ROOSEVELT        R      RIT  02/05/2021   \n",
       "\n",
       "            TIME     DESC  ENTRIES  EXITS           DATE_TIME          STATION  \n",
       "209078  20:00:00  REGULAR     5554    544 2021-02-05 20:00:00  RIT-ROOSEVELT R  \n",
       "209077  16:00:00  REGULAR     5554    544 2021-02-05 16:00:00  RIT-ROOSEVELT R  \n",
       "209076  12:00:00  REGULAR     5554    544 2021-02-05 12:00:00  RIT-ROOSEVELT R  \n",
       "209075  08:00:00  REGULAR     5554    544 2021-02-05 08:00:00  RIT-ROOSEVELT R  \n",
       "209074  04:00:00  REGULAR     5554    544 2021-02-05 04:00:00  RIT-ROOSEVELT R  "
      ]
     },
     "execution_count": 112,
     "metadata": {},
     "output_type": "execute_result"
    }
   ],
   "source": [
    "df_5.head()"
   ]
  },
  {
   "cell_type": "code",
   "execution_count": 113,
   "metadata": {},
   "outputs": [],
   "source": [
    "df_5[\"DATE_TIME\"] = pd.to_datetime(df_5.DATE + \" \" + df_5.TIME, \n",
    "                                            format=\"%m/%d/%Y %H:%M:%S\")"
   ]
  },
  {
   "cell_type": "code",
   "execution_count": 114,
   "metadata": {},
   "outputs": [],
   "source": [
    "df_5.sort_values([\"C/A\", \"UNIT\", \"SCP\", \"STATION\", \"DATE_TIME\"], \n",
    "                          inplace=True, ascending=False)\n",
    "df_5.drop_duplicates(subset=[\"C/A\", \"UNIT\", \"SCP\", \"STATION\", \"DATE_TIME\"], inplace=True)"
   ]
  },
  {
   "cell_type": "code",
   "execution_count": 115,
   "metadata": {},
   "outputs": [
    {
     "data": {
      "text/html": [
       "<div>\n",
       "<style scoped>\n",
       "    .dataframe tbody tr th:only-of-type {\n",
       "        vertical-align: middle;\n",
       "    }\n",
       "\n",
       "    .dataframe tbody tr th {\n",
       "        vertical-align: top;\n",
       "    }\n",
       "\n",
       "    .dataframe thead th {\n",
       "        text-align: right;\n",
       "    }\n",
       "</style>\n",
       "<table border=\"1\" class=\"dataframe\">\n",
       "  <thead>\n",
       "    <tr style=\"text-align: right;\">\n",
       "      <th></th>\n",
       "      <th>C/A</th>\n",
       "      <th>UNIT</th>\n",
       "      <th>SCP</th>\n",
       "      <th>STATION</th>\n",
       "      <th>DATE_TIME</th>\n",
       "      <th>ENTRIES</th>\n",
       "    </tr>\n",
       "  </thead>\n",
       "  <tbody>\n",
       "    <tr>\n",
       "      <th>0</th>\n",
       "      <td>A002</td>\n",
       "      <td>R051</td>\n",
       "      <td>02-00-00</td>\n",
       "      <td>59 ST NQR456W</td>\n",
       "      <td>2020-10-31 00:00:00</td>\n",
       "      <td>1</td>\n",
       "    </tr>\n",
       "    <tr>\n",
       "      <th>1961741</th>\n",
       "      <td>R138</td>\n",
       "      <td>R293</td>\n",
       "      <td>00-02-05</td>\n",
       "      <td>34 ST-PENN STA 123ACE</td>\n",
       "      <td>2020-11-13 21:00:00</td>\n",
       "      <td>1</td>\n",
       "    </tr>\n",
       "    <tr>\n",
       "      <th>1961721</th>\n",
       "      <td>R138</td>\n",
       "      <td>R293</td>\n",
       "      <td>00-02-05</td>\n",
       "      <td>34 ST-PENN STA 123ACE</td>\n",
       "      <td>2020-11-10 13:00:00</td>\n",
       "      <td>1</td>\n",
       "    </tr>\n",
       "    <tr>\n",
       "      <th>1961722</th>\n",
       "      <td>R138</td>\n",
       "      <td>R293</td>\n",
       "      <td>00-02-05</td>\n",
       "      <td>34 ST-PENN STA 123ACE</td>\n",
       "      <td>2020-11-10 17:00:00</td>\n",
       "      <td>1</td>\n",
       "    </tr>\n",
       "    <tr>\n",
       "      <th>1961723</th>\n",
       "      <td>R138</td>\n",
       "      <td>R293</td>\n",
       "      <td>00-02-05</td>\n",
       "      <td>34 ST-PENN STA 123ACE</td>\n",
       "      <td>2020-11-10 21:00:00</td>\n",
       "      <td>1</td>\n",
       "    </tr>\n",
       "  </tbody>\n",
       "</table>\n",
       "</div>"
      ],
      "text/plain": [
       "          C/A  UNIT       SCP                STATION           DATE_TIME  \\\n",
       "0        A002  R051  02-00-00          59 ST NQR456W 2020-10-31 00:00:00   \n",
       "1961741  R138  R293  00-02-05  34 ST-PENN STA 123ACE 2020-11-13 21:00:00   \n",
       "1961721  R138  R293  00-02-05  34 ST-PENN STA 123ACE 2020-11-10 13:00:00   \n",
       "1961722  R138  R293  00-02-05  34 ST-PENN STA 123ACE 2020-11-10 17:00:00   \n",
       "1961723  R138  R293  00-02-05  34 ST-PENN STA 123ACE 2020-11-10 21:00:00   \n",
       "\n",
       "         ENTRIES  \n",
       "0              1  \n",
       "1961741        1  \n",
       "1961721        1  \n",
       "1961722        1  \n",
       "1961723        1  "
      ]
     },
     "execution_count": 115,
     "metadata": {},
     "output_type": "execute_result"
    }
   ],
   "source": [
    "(df_5\n",
    " .groupby([\"C/A\", \"UNIT\", \"SCP\", \"STATION\", \"DATE_TIME\"])\n",
    " .ENTRIES.count()\n",
    " .reset_index()\n",
    " .sort_values(\"ENTRIES\", ascending=False)).head(5)"
   ]
  },
  {
   "cell_type": "code",
   "execution_count": 116,
   "metadata": {},
   "outputs": [],
   "source": [
    "df_5_daily = (df_5.groupby([\"C/A\", \"UNIT\", \"SCP\", \"STATION\", \"DATE\"],as_index=False).ENTRIES.first())"
   ]
  },
  {
   "cell_type": "code",
   "execution_count": 117,
   "metadata": {},
   "outputs": [],
   "source": [
    "df_5_daily[[\"PREV_DATE\", \"PREV_ENTRIES\"]] = (df_5_daily.groupby([\"C/A\", \"UNIT\", \"SCP\", \"STATION\"])[[\"DATE\", \"ENTRIES\"]]\n",
    "                                                       .shift(1))"
   ]
  },
  {
   "cell_type": "code",
   "execution_count": 118,
   "metadata": {},
   "outputs": [
    {
     "data": {
      "text/html": [
       "<div>\n",
       "<style scoped>\n",
       "    .dataframe tbody tr th:only-of-type {\n",
       "        vertical-align: middle;\n",
       "    }\n",
       "\n",
       "    .dataframe tbody tr th {\n",
       "        vertical-align: top;\n",
       "    }\n",
       "\n",
       "    .dataframe thead th {\n",
       "        text-align: right;\n",
       "    }\n",
       "</style>\n",
       "<table border=\"1\" class=\"dataframe\">\n",
       "  <thead>\n",
       "    <tr style=\"text-align: right;\">\n",
       "      <th></th>\n",
       "      <th>C/A</th>\n",
       "      <th>UNIT</th>\n",
       "      <th>SCP</th>\n",
       "      <th>STATION</th>\n",
       "      <th>DATE</th>\n",
       "      <th>ENTRIES</th>\n",
       "      <th>PREV_DATE</th>\n",
       "      <th>PREV_ENTRIES</th>\n",
       "    </tr>\n",
       "  </thead>\n",
       "  <tbody>\n",
       "    <tr>\n",
       "      <th>0</th>\n",
       "      <td>A002</td>\n",
       "      <td>R051</td>\n",
       "      <td>02-00-00</td>\n",
       "      <td>59 ST NQR456W</td>\n",
       "      <td>01/01/2021</td>\n",
       "      <td>7511647</td>\n",
       "      <td>NaN</td>\n",
       "      <td>NaN</td>\n",
       "    </tr>\n",
       "    <tr>\n",
       "      <th>1</th>\n",
       "      <td>A002</td>\n",
       "      <td>R051</td>\n",
       "      <td>02-00-00</td>\n",
       "      <td>59 ST NQR456W</td>\n",
       "      <td>01/02/2021</td>\n",
       "      <td>7511996</td>\n",
       "      <td>01/01/2021</td>\n",
       "      <td>7511647.0</td>\n",
       "    </tr>\n",
       "    <tr>\n",
       "      <th>2</th>\n",
       "      <td>A002</td>\n",
       "      <td>R051</td>\n",
       "      <td>02-00-00</td>\n",
       "      <td>59 ST NQR456W</td>\n",
       "      <td>01/03/2021</td>\n",
       "      <td>7512214</td>\n",
       "      <td>01/02/2021</td>\n",
       "      <td>7511996.0</td>\n",
       "    </tr>\n",
       "    <tr>\n",
       "      <th>3</th>\n",
       "      <td>A002</td>\n",
       "      <td>R051</td>\n",
       "      <td>02-00-00</td>\n",
       "      <td>59 ST NQR456W</td>\n",
       "      <td>01/04/2021</td>\n",
       "      <td>7512754</td>\n",
       "      <td>01/03/2021</td>\n",
       "      <td>7512214.0</td>\n",
       "    </tr>\n",
       "    <tr>\n",
       "      <th>4</th>\n",
       "      <td>A002</td>\n",
       "      <td>R051</td>\n",
       "      <td>02-00-00</td>\n",
       "      <td>59 ST NQR456W</td>\n",
       "      <td>01/05/2021</td>\n",
       "      <td>7513300</td>\n",
       "      <td>01/04/2021</td>\n",
       "      <td>7512754.0</td>\n",
       "    </tr>\n",
       "  </tbody>\n",
       "</table>\n",
       "</div>"
      ],
      "text/plain": [
       "    C/A  UNIT       SCP        STATION        DATE  ENTRIES   PREV_DATE  \\\n",
       "0  A002  R051  02-00-00  59 ST NQR456W  01/01/2021  7511647         NaN   \n",
       "1  A002  R051  02-00-00  59 ST NQR456W  01/02/2021  7511996  01/01/2021   \n",
       "2  A002  R051  02-00-00  59 ST NQR456W  01/03/2021  7512214  01/02/2021   \n",
       "3  A002  R051  02-00-00  59 ST NQR456W  01/04/2021  7512754  01/03/2021   \n",
       "4  A002  R051  02-00-00  59 ST NQR456W  01/05/2021  7513300  01/04/2021   \n",
       "\n",
       "   PREV_ENTRIES  \n",
       "0           NaN  \n",
       "1     7511647.0  \n",
       "2     7511996.0  \n",
       "3     7512214.0  \n",
       "4     7512754.0  "
      ]
     },
     "execution_count": 118,
     "metadata": {},
     "output_type": "execute_result"
    }
   ],
   "source": [
    "df_5_daily.head()"
   ]
  },
  {
   "cell_type": "code",
   "execution_count": 119,
   "metadata": {},
   "outputs": [],
   "source": [
    "df_5_daily.dropna(subset=[\"PREV_DATE\"], axis=0, inplace=True)"
   ]
  },
  {
   "cell_type": "code",
   "execution_count": 120,
   "metadata": {},
   "outputs": [
    {
     "data": {
      "text/html": [
       "<div>\n",
       "<style scoped>\n",
       "    .dataframe tbody tr th:only-of-type {\n",
       "        vertical-align: middle;\n",
       "    }\n",
       "\n",
       "    .dataframe tbody tr th {\n",
       "        vertical-align: top;\n",
       "    }\n",
       "\n",
       "    .dataframe thead th {\n",
       "        text-align: right;\n",
       "    }\n",
       "</style>\n",
       "<table border=\"1\" class=\"dataframe\">\n",
       "  <thead>\n",
       "    <tr style=\"text-align: right;\">\n",
       "      <th></th>\n",
       "      <th>C/A</th>\n",
       "      <th>UNIT</th>\n",
       "      <th>SCP</th>\n",
       "      <th>STATION</th>\n",
       "      <th>DATE</th>\n",
       "      <th>ENTRIES</th>\n",
       "      <th>PREV_DATE</th>\n",
       "      <th>PREV_ENTRIES</th>\n",
       "    </tr>\n",
       "  </thead>\n",
       "  <tbody>\n",
       "    <tr>\n",
       "      <th>1</th>\n",
       "      <td>A002</td>\n",
       "      <td>R051</td>\n",
       "      <td>02-00-00</td>\n",
       "      <td>59 ST NQR456W</td>\n",
       "      <td>01/02/2021</td>\n",
       "      <td>7511996</td>\n",
       "      <td>01/01/2021</td>\n",
       "      <td>7511647.0</td>\n",
       "    </tr>\n",
       "    <tr>\n",
       "      <th>2</th>\n",
       "      <td>A002</td>\n",
       "      <td>R051</td>\n",
       "      <td>02-00-00</td>\n",
       "      <td>59 ST NQR456W</td>\n",
       "      <td>01/03/2021</td>\n",
       "      <td>7512214</td>\n",
       "      <td>01/02/2021</td>\n",
       "      <td>7511996.0</td>\n",
       "    </tr>\n",
       "    <tr>\n",
       "      <th>3</th>\n",
       "      <td>A002</td>\n",
       "      <td>R051</td>\n",
       "      <td>02-00-00</td>\n",
       "      <td>59 ST NQR456W</td>\n",
       "      <td>01/04/2021</td>\n",
       "      <td>7512754</td>\n",
       "      <td>01/03/2021</td>\n",
       "      <td>7512214.0</td>\n",
       "    </tr>\n",
       "    <tr>\n",
       "      <th>4</th>\n",
       "      <td>A002</td>\n",
       "      <td>R051</td>\n",
       "      <td>02-00-00</td>\n",
       "      <td>59 ST NQR456W</td>\n",
       "      <td>01/05/2021</td>\n",
       "      <td>7513300</td>\n",
       "      <td>01/04/2021</td>\n",
       "      <td>7512754.0</td>\n",
       "    </tr>\n",
       "    <tr>\n",
       "      <th>5</th>\n",
       "      <td>A002</td>\n",
       "      <td>R051</td>\n",
       "      <td>02-00-00</td>\n",
       "      <td>59 ST NQR456W</td>\n",
       "      <td>01/06/2021</td>\n",
       "      <td>7513790</td>\n",
       "      <td>01/05/2021</td>\n",
       "      <td>7513300.0</td>\n",
       "    </tr>\n",
       "  </tbody>\n",
       "</table>\n",
       "</div>"
      ],
      "text/plain": [
       "    C/A  UNIT       SCP        STATION        DATE  ENTRIES   PREV_DATE  \\\n",
       "1  A002  R051  02-00-00  59 ST NQR456W  01/02/2021  7511996  01/01/2021   \n",
       "2  A002  R051  02-00-00  59 ST NQR456W  01/03/2021  7512214  01/02/2021   \n",
       "3  A002  R051  02-00-00  59 ST NQR456W  01/04/2021  7512754  01/03/2021   \n",
       "4  A002  R051  02-00-00  59 ST NQR456W  01/05/2021  7513300  01/04/2021   \n",
       "5  A002  R051  02-00-00  59 ST NQR456W  01/06/2021  7513790  01/05/2021   \n",
       "\n",
       "   PREV_ENTRIES  \n",
       "1     7511647.0  \n",
       "2     7511996.0  \n",
       "3     7512214.0  \n",
       "4     7512754.0  \n",
       "5     7513300.0  "
      ]
     },
     "execution_count": 120,
     "metadata": {},
     "output_type": "execute_result"
    }
   ],
   "source": [
    "df_5_daily.head()"
   ]
  },
  {
   "cell_type": "code",
   "execution_count": 121,
   "metadata": {},
   "outputs": [],
   "source": [
    "df_5_daily['MONTH'] = (df_5_daily['DATE'].str[0:2])"
   ]
  },
  {
   "cell_type": "code",
   "execution_count": 122,
   "metadata": {},
   "outputs": [
    {
     "data": {
      "text/plain": [
       "12    154432\n",
       "01    149397\n",
       "11    149267\n",
       "02     24945\n",
       "10      4960\n",
       "Name: MONTH, dtype: int64"
      ]
     },
     "execution_count": 122,
     "metadata": {},
     "output_type": "execute_result"
    }
   ],
   "source": [
    "df_5_daily['MONTH'].value_counts()"
   ]
  },
  {
   "cell_type": "code",
   "execution_count": 123,
   "metadata": {},
   "outputs": [],
   "source": [
    "mask = ((df_5_daily[\"MONTH\"] == \"11\") |\n",
    "        (df_5_daily[\"MONTH\"] == \"12\") |\n",
    "        (df_5_daily[\"MONTH\"] == \"01\"))\n",
    "\n",
    "df5_data = df_5_daily[mask].copy()"
   ]
  },
  {
   "cell_type": "code",
   "execution_count": 124,
   "metadata": {},
   "outputs": [
    {
     "data": {
      "text/html": [
       "<div>\n",
       "<style scoped>\n",
       "    .dataframe tbody tr th:only-of-type {\n",
       "        vertical-align: middle;\n",
       "    }\n",
       "\n",
       "    .dataframe tbody tr th {\n",
       "        vertical-align: top;\n",
       "    }\n",
       "\n",
       "    .dataframe thead th {\n",
       "        text-align: right;\n",
       "    }\n",
       "</style>\n",
       "<table border=\"1\" class=\"dataframe\">\n",
       "  <thead>\n",
       "    <tr style=\"text-align: right;\">\n",
       "      <th></th>\n",
       "      <th>C/A</th>\n",
       "      <th>UNIT</th>\n",
       "      <th>SCP</th>\n",
       "      <th>STATION</th>\n",
       "      <th>DATE</th>\n",
       "      <th>ENTRIES</th>\n",
       "      <th>PREV_DATE</th>\n",
       "      <th>PREV_ENTRIES</th>\n",
       "      <th>MONTH</th>\n",
       "    </tr>\n",
       "  </thead>\n",
       "  <tbody>\n",
       "    <tr>\n",
       "      <th>1</th>\n",
       "      <td>A002</td>\n",
       "      <td>R051</td>\n",
       "      <td>02-00-00</td>\n",
       "      <td>59 ST NQR456W</td>\n",
       "      <td>01/02/2021</td>\n",
       "      <td>7511996</td>\n",
       "      <td>01/01/2021</td>\n",
       "      <td>7511647.0</td>\n",
       "      <td>01</td>\n",
       "    </tr>\n",
       "    <tr>\n",
       "      <th>2</th>\n",
       "      <td>A002</td>\n",
       "      <td>R051</td>\n",
       "      <td>02-00-00</td>\n",
       "      <td>59 ST NQR456W</td>\n",
       "      <td>01/03/2021</td>\n",
       "      <td>7512214</td>\n",
       "      <td>01/02/2021</td>\n",
       "      <td>7511996.0</td>\n",
       "      <td>01</td>\n",
       "    </tr>\n",
       "    <tr>\n",
       "      <th>3</th>\n",
       "      <td>A002</td>\n",
       "      <td>R051</td>\n",
       "      <td>02-00-00</td>\n",
       "      <td>59 ST NQR456W</td>\n",
       "      <td>01/04/2021</td>\n",
       "      <td>7512754</td>\n",
       "      <td>01/03/2021</td>\n",
       "      <td>7512214.0</td>\n",
       "      <td>01</td>\n",
       "    </tr>\n",
       "    <tr>\n",
       "      <th>4</th>\n",
       "      <td>A002</td>\n",
       "      <td>R051</td>\n",
       "      <td>02-00-00</td>\n",
       "      <td>59 ST NQR456W</td>\n",
       "      <td>01/05/2021</td>\n",
       "      <td>7513300</td>\n",
       "      <td>01/04/2021</td>\n",
       "      <td>7512754.0</td>\n",
       "      <td>01</td>\n",
       "    </tr>\n",
       "    <tr>\n",
       "      <th>5</th>\n",
       "      <td>A002</td>\n",
       "      <td>R051</td>\n",
       "      <td>02-00-00</td>\n",
       "      <td>59 ST NQR456W</td>\n",
       "      <td>01/06/2021</td>\n",
       "      <td>7513790</td>\n",
       "      <td>01/05/2021</td>\n",
       "      <td>7513300.0</td>\n",
       "      <td>01</td>\n",
       "    </tr>\n",
       "  </tbody>\n",
       "</table>\n",
       "</div>"
      ],
      "text/plain": [
       "    C/A  UNIT       SCP        STATION        DATE  ENTRIES   PREV_DATE  \\\n",
       "1  A002  R051  02-00-00  59 ST NQR456W  01/02/2021  7511996  01/01/2021   \n",
       "2  A002  R051  02-00-00  59 ST NQR456W  01/03/2021  7512214  01/02/2021   \n",
       "3  A002  R051  02-00-00  59 ST NQR456W  01/04/2021  7512754  01/03/2021   \n",
       "4  A002  R051  02-00-00  59 ST NQR456W  01/05/2021  7513300  01/04/2021   \n",
       "5  A002  R051  02-00-00  59 ST NQR456W  01/06/2021  7513790  01/05/2021   \n",
       "\n",
       "   PREV_ENTRIES MONTH  \n",
       "1     7511647.0    01  \n",
       "2     7511996.0    01  \n",
       "3     7512214.0    01  \n",
       "4     7512754.0    01  \n",
       "5     7513300.0    01  "
      ]
     },
     "execution_count": 124,
     "metadata": {},
     "output_type": "execute_result"
    }
   ],
   "source": [
    "df5_data.head()"
   ]
  },
  {
   "cell_type": "code",
   "execution_count": 125,
   "metadata": {},
   "outputs": [
    {
     "data": {
      "text/plain": [
       "count    4.530960e+05\n",
       "mean    -4.504478e+02\n",
       "std      4.579851e+06\n",
       "min     -1.242137e+09\n",
       "25%      4.300000e+01\n",
       "50%      1.790000e+02\n",
       "75%      3.860000e+02\n",
       "max      1.821543e+09\n",
       "dtype: float64"
      ]
     },
     "execution_count": 125,
     "metadata": {},
     "output_type": "execute_result"
    }
   ],
   "source": [
    "(df5_data[\"ENTRIES\"] - df5_data[\"PREV_ENTRIES\"]).describe()"
   ]
  },
  {
   "cell_type": "code",
   "execution_count": 126,
   "metadata": {},
   "outputs": [
    {
     "data": {
      "text/plain": [
       "(4092, 9)"
      ]
     },
     "execution_count": 126,
     "metadata": {},
     "output_type": "execute_result"
    }
   ],
   "source": [
    "df5_data[df5_data[\"ENTRIES\"] < df5_data[\"PREV_ENTRIES\"]].shape"
   ]
  },
  {
   "cell_type": "code",
   "execution_count": 127,
   "metadata": {},
   "outputs": [
    {
     "name": "stdout",
     "output_type": "stream",
     "text": [
      "entries: 52806 <-- 17116894.0\n",
      "entries: 289 <-- 3055256.0\n",
      "entries: 198 <-- 5102094.0\n",
      "entries: 123 <-- 1630877.0\n",
      "entries: 20 <-- 2642748.0\n",
      "entries: 26 <-- 3963030.0\n",
      "entries: 393278 <-- 32986.0\n",
      "entries: 169 <-- 2172444.0\n",
      "entries: 43 <-- 3039842.0\n",
      "entries: 77 <-- 295924.0\n",
      "entries: 524288 <-- 267179.0\n",
      "entries: 589976 <-- 328913.0\n",
      "entries: 1294 <-- 6496220.0\n",
      "entries: 196 <-- 690417.0\n",
      "entries: 262198 <-- 1028467.0\n",
      "entries: 58 <-- 262198.0\n",
      "entries: 455 <-- 2822958.0\n",
      "entries: 327834 <-- 2642486.0\n",
      "entries: 34 <-- 270294.0\n",
      "entries: 524347 <-- 1485358.0\n",
      "entries: 262182 <-- 526704.0\n",
      "entries: 524338 <-- 67889725.0\n",
      "entries: 544 <-- 475738131.0\n",
      "entries: 262231 <-- 532342.0\n",
      "entries: 16796392 <-- 123975.0\n",
      "entries: 453044031 <-- 1779426.0\n",
      "entries: 15 <-- 310200.0\n",
      "entries: 91 <-- 4038371.0\n",
      "entries: 157 <-- 3563454.0\n",
      "entries: 120 <-- 3319940.0\n",
      "entries: 394 <-- 2773389.0\n",
      "entries: 100 <-- 2493895.0\n",
      "entries: 280 <-- 7355319.0\n",
      "entries: 1160 <-- 2419490.0\n",
      "entries: 589826 <-- 53147.0\n",
      "entries: 2293788 <-- 4259642.0\n",
      "entries: 29 <-- 1505299.0\n",
      "entries: 12 <-- 885804.0\n",
      "entries: 248 <-- 827160459.0\n",
      "entries: 36 <-- 500613.0\n",
      "entries: 47 <-- 2514854.0\n",
      "entries: 1376376 <-- 8181460.0\n",
      "entries: 420 <-- 4343900.0\n",
      "entries: 458765 <-- 134277578.0\n",
      "entries: 2301353 <-- 2563511.0\n",
      "entries: 2563619 <-- 2301353.0\n",
      "entries: 721042 <-- 343.0\n",
      "entries: 318 <-- 3251529.0\n",
      "entries: 81 <-- 644689531.0\n",
      "entries: 327685 <-- 1434.0\n",
      "entries: 459319 <-- 1518041.0\n",
      "entries: 23 <-- 134570115.0\n",
      "entries: 60 <-- 490154.0\n",
      "entries: 5 <-- 2706972.0\n",
      "entries: 93 <-- 1325337.0\n",
      "entries: 35 <-- 3732118.0\n",
      "entries: 205 <-- 2404886.0\n",
      "entries: 78 <-- 1242136770.0\n",
      "entries: 172 <-- 5912692.0\n",
      "entries: 955056270 <-- 4994242.0\n",
      "entries: 262248 <-- 955056882.0\n",
      "entries: 715 <-- 281701.0\n",
      "entries: 524450 <-- 6946638.0\n",
      "entries: 262302 <-- 524529.0\n",
      "entries: 1055 <-- 4845991.0\n",
      "entries: 720906 <-- 80171.0\n",
      "entries: 191 <-- 2811568.0\n",
      "entries: 44 <-- 397590.0\n",
      "entries: 647 <-- 239666917.0\n",
      "entries: 494 <-- 1930690.0\n",
      "entries: 138 <-- 364027.0\n",
      "entries: 26 <-- 226461.0\n",
      "entries: 28 <-- 392300.0\n",
      "entries: 2 <-- 587497.0\n",
      "entries: 173 <-- 451857.0\n",
      "entries: 54 <-- 4112456.0\n",
      "entries: 48 <-- 5583003.0\n",
      "entries: 28 <-- 6190595.0\n",
      "entries: 8 <-- 451316.0\n",
      "entries: 165 <-- 11883611.0\n",
      "entries: 327680 <-- 0.0\n",
      "entries: 534 <-- 922970.0\n",
      "entries: 30 <-- 729119.0\n",
      "entries: 846 <-- 342032.0\n",
      "entries: 15439231 <-- 6237114.0\n",
      "entries: 18 <-- 1437665.0\n",
      "entries: 545 <-- 2888736.0\n",
      "entries: 5 <-- 13122450.0\n",
      "entries: 21 <-- 2166896.0\n",
      "entries: 12 <-- 856204.0\n",
      "entries: 644 <-- 562222.0\n",
      "entries: 126 <-- 1965830.0\n",
      "entries: 9 <-- 1031327.0\n",
      "entries: 262160 <-- 640678.0\n",
      "entries: 85 <-- 4001974.0\n",
      "entries: 315 <-- 2844675.0\n",
      "entries: 550 <-- 16283553.0\n",
      "entries: 90 <-- 3463880.0\n",
      "entries: 366 <-- 261118.0\n",
      "entries: 220 <-- 643213.0\n",
      "entries: 592403 <-- 4715175.0\n",
      "entries: 688 <-- 141769497.0\n",
      "entries: 524951 <-- 64642.0\n",
      "entries: 855624180 <-- 13456261.0\n",
      "entries: 1828739614 <-- 7196295.0\n",
      "entries: 738431481 <-- 53263405.0\n",
      "entries: 131 <-- 3201434.0\n",
      "entries: 589892 <-- 4369.0\n",
      "entries: 64 <-- 592309.0\n",
      "entries: 41929 <-- 524288.0\n",
      "entries: 524288 <-- 41929.0\n",
      "entries: 33256 <-- 589824.0\n",
      "entries: 589824 <-- 33256.0\n",
      "entries: 22 <-- 5621555.0\n",
      "entries: 24 <-- 3242985.0\n"
     ]
    }
   ],
   "source": [
    "def get_daily_counts(row, max_counter):\n",
    "    counter = row[\"ENTRIES\"] - row[\"PREV_ENTRIES\"]\n",
    "    \n",
    "    if counter < 0:\n",
    "        counter = -counter \n",
    "        \n",
    "    if counter > max_counter:\n",
    "        print(f'entries: {row[\"ENTRIES\"]} <-- {row[\"PREV_ENTRIES\"]}')\n",
    "        counter = min(row[\"ENTRIES\"], row[\"PREV_ENTRIES\"])\n",
    "        \n",
    "    if counter > max_counter:\n",
    "        return 0\n",
    "    \n",
    "    return counter\n",
    "\n",
    "df5_data[\"DAILY_ENTRIES\"] = df5_data.apply(get_daily_counts, axis=1, max_counter=200000)"
   ]
  },
  {
   "cell_type": "code",
   "execution_count": 128,
   "metadata": {},
   "outputs": [
    {
     "data": {
      "text/html": [
       "<div>\n",
       "<style scoped>\n",
       "    .dataframe tbody tr th:only-of-type {\n",
       "        vertical-align: middle;\n",
       "    }\n",
       "\n",
       "    .dataframe tbody tr th {\n",
       "        vertical-align: top;\n",
       "    }\n",
       "\n",
       "    .dataframe thead th {\n",
       "        text-align: right;\n",
       "    }\n",
       "</style>\n",
       "<table border=\"1\" class=\"dataframe\">\n",
       "  <thead>\n",
       "    <tr style=\"text-align: right;\">\n",
       "      <th></th>\n",
       "      <th>C/A</th>\n",
       "      <th>UNIT</th>\n",
       "      <th>SCP</th>\n",
       "      <th>STATION</th>\n",
       "      <th>DATE</th>\n",
       "      <th>ENTRIES</th>\n",
       "      <th>PREV_DATE</th>\n",
       "      <th>PREV_ENTRIES</th>\n",
       "      <th>MONTH</th>\n",
       "      <th>DAILY_ENTRIES</th>\n",
       "    </tr>\n",
       "  </thead>\n",
       "  <tbody>\n",
       "    <tr>\n",
       "      <th>1</th>\n",
       "      <td>A002</td>\n",
       "      <td>R051</td>\n",
       "      <td>02-00-00</td>\n",
       "      <td>59 ST NQR456W</td>\n",
       "      <td>01/02/2021</td>\n",
       "      <td>7511996</td>\n",
       "      <td>01/01/2021</td>\n",
       "      <td>7511647.0</td>\n",
       "      <td>01</td>\n",
       "      <td>349.0</td>\n",
       "    </tr>\n",
       "    <tr>\n",
       "      <th>2</th>\n",
       "      <td>A002</td>\n",
       "      <td>R051</td>\n",
       "      <td>02-00-00</td>\n",
       "      <td>59 ST NQR456W</td>\n",
       "      <td>01/03/2021</td>\n",
       "      <td>7512214</td>\n",
       "      <td>01/02/2021</td>\n",
       "      <td>7511996.0</td>\n",
       "      <td>01</td>\n",
       "      <td>218.0</td>\n",
       "    </tr>\n",
       "    <tr>\n",
       "      <th>3</th>\n",
       "      <td>A002</td>\n",
       "      <td>R051</td>\n",
       "      <td>02-00-00</td>\n",
       "      <td>59 ST NQR456W</td>\n",
       "      <td>01/04/2021</td>\n",
       "      <td>7512754</td>\n",
       "      <td>01/03/2021</td>\n",
       "      <td>7512214.0</td>\n",
       "      <td>01</td>\n",
       "      <td>540.0</td>\n",
       "    </tr>\n",
       "    <tr>\n",
       "      <th>4</th>\n",
       "      <td>A002</td>\n",
       "      <td>R051</td>\n",
       "      <td>02-00-00</td>\n",
       "      <td>59 ST NQR456W</td>\n",
       "      <td>01/05/2021</td>\n",
       "      <td>7513300</td>\n",
       "      <td>01/04/2021</td>\n",
       "      <td>7512754.0</td>\n",
       "      <td>01</td>\n",
       "      <td>546.0</td>\n",
       "    </tr>\n",
       "    <tr>\n",
       "      <th>5</th>\n",
       "      <td>A002</td>\n",
       "      <td>R051</td>\n",
       "      <td>02-00-00</td>\n",
       "      <td>59 ST NQR456W</td>\n",
       "      <td>01/06/2021</td>\n",
       "      <td>7513790</td>\n",
       "      <td>01/05/2021</td>\n",
       "      <td>7513300.0</td>\n",
       "      <td>01</td>\n",
       "      <td>490.0</td>\n",
       "    </tr>\n",
       "  </tbody>\n",
       "</table>\n",
       "</div>"
      ],
      "text/plain": [
       "    C/A  UNIT       SCP        STATION        DATE  ENTRIES   PREV_DATE  \\\n",
       "1  A002  R051  02-00-00  59 ST NQR456W  01/02/2021  7511996  01/01/2021   \n",
       "2  A002  R051  02-00-00  59 ST NQR456W  01/03/2021  7512214  01/02/2021   \n",
       "3  A002  R051  02-00-00  59 ST NQR456W  01/04/2021  7512754  01/03/2021   \n",
       "4  A002  R051  02-00-00  59 ST NQR456W  01/05/2021  7513300  01/04/2021   \n",
       "5  A002  R051  02-00-00  59 ST NQR456W  01/06/2021  7513790  01/05/2021   \n",
       "\n",
       "   PREV_ENTRIES MONTH  DAILY_ENTRIES  \n",
       "1     7511647.0    01          349.0  \n",
       "2     7511996.0    01          218.0  \n",
       "3     7512214.0    01          540.0  \n",
       "4     7512754.0    01          546.0  \n",
       "5     7513300.0    01          490.0  "
      ]
     },
     "execution_count": 128,
     "metadata": {},
     "output_type": "execute_result"
    }
   ],
   "source": [
    "df5_data.head()"
   ]
  },
  {
   "cell_type": "code",
   "execution_count": 129,
   "metadata": {},
   "outputs": [
    {
     "data": {
      "text/plain": [
       "count    453096.000000\n",
       "mean        281.341246\n",
       "std        1136.241030\n",
       "min           0.000000\n",
       "25%          48.000000\n",
       "50%         183.000000\n",
       "75%         391.000000\n",
       "max      196858.000000\n",
       "Name: DAILY_ENTRIES, dtype: float64"
      ]
     },
     "execution_count": 129,
     "metadata": {},
     "output_type": "execute_result"
    }
   ],
   "source": [
    "df5_data.DAILY_ENTRIES.describe()"
   ]
  },
  {
   "cell_type": "code",
   "execution_count": 130,
   "metadata": {},
   "outputs": [
    {
     "data": {
      "text/plain": [
       "12    154432\n",
       "01    149397\n",
       "11    149267\n",
       "Name: MONTH, dtype: int64"
      ]
     },
     "execution_count": 130,
     "metadata": {},
     "output_type": "execute_result"
    }
   ],
   "source": [
    "df5_data.MONTH.value_counts()"
   ]
  },
  {
   "cell_type": "code",
   "execution_count": 131,
   "metadata": {},
   "outputs": [
    {
     "data": {
      "text/plain": [
       "196858.0"
      ]
     },
     "execution_count": 131,
     "metadata": {},
     "output_type": "execute_result"
    }
   ],
   "source": [
    "df5_data[\"DAILY_ENTRIES\"].max()"
   ]
  },
  {
   "cell_type": "code",
   "execution_count": 132,
   "metadata": {},
   "outputs": [
    {
     "data": {
      "text/html": [
       "<div>\n",
       "<style scoped>\n",
       "    .dataframe tbody tr th:only-of-type {\n",
       "        vertical-align: middle;\n",
       "    }\n",
       "\n",
       "    .dataframe tbody tr th {\n",
       "        vertical-align: top;\n",
       "    }\n",
       "\n",
       "    .dataframe thead th {\n",
       "        text-align: right;\n",
       "    }\n",
       "</style>\n",
       "<table border=\"1\" class=\"dataframe\">\n",
       "  <thead>\n",
       "    <tr style=\"text-align: right;\">\n",
       "      <th></th>\n",
       "      <th>C/A</th>\n",
       "      <th>UNIT</th>\n",
       "      <th>SCP</th>\n",
       "      <th>STATION</th>\n",
       "      <th>DATE</th>\n",
       "      <th>ENTRIES</th>\n",
       "      <th>PREV_DATE</th>\n",
       "      <th>PREV_ENTRIES</th>\n",
       "      <th>MONTH</th>\n",
       "      <th>DAILY_ENTRIES</th>\n",
       "    </tr>\n",
       "  </thead>\n",
       "  <tbody>\n",
       "    <tr>\n",
       "      <th>1</th>\n",
       "      <td>A002</td>\n",
       "      <td>R051</td>\n",
       "      <td>02-00-00</td>\n",
       "      <td>59 ST NQR456W</td>\n",
       "      <td>01/02/2021</td>\n",
       "      <td>7511996</td>\n",
       "      <td>01/01/2021</td>\n",
       "      <td>7511647.0</td>\n",
       "      <td>01</td>\n",
       "      <td>349.0</td>\n",
       "    </tr>\n",
       "    <tr>\n",
       "      <th>2</th>\n",
       "      <td>A002</td>\n",
       "      <td>R051</td>\n",
       "      <td>02-00-00</td>\n",
       "      <td>59 ST NQR456W</td>\n",
       "      <td>01/03/2021</td>\n",
       "      <td>7512214</td>\n",
       "      <td>01/02/2021</td>\n",
       "      <td>7511996.0</td>\n",
       "      <td>01</td>\n",
       "      <td>218.0</td>\n",
       "    </tr>\n",
       "    <tr>\n",
       "      <th>3</th>\n",
       "      <td>A002</td>\n",
       "      <td>R051</td>\n",
       "      <td>02-00-00</td>\n",
       "      <td>59 ST NQR456W</td>\n",
       "      <td>01/04/2021</td>\n",
       "      <td>7512754</td>\n",
       "      <td>01/03/2021</td>\n",
       "      <td>7512214.0</td>\n",
       "      <td>01</td>\n",
       "      <td>540.0</td>\n",
       "    </tr>\n",
       "    <tr>\n",
       "      <th>4</th>\n",
       "      <td>A002</td>\n",
       "      <td>R051</td>\n",
       "      <td>02-00-00</td>\n",
       "      <td>59 ST NQR456W</td>\n",
       "      <td>01/05/2021</td>\n",
       "      <td>7513300</td>\n",
       "      <td>01/04/2021</td>\n",
       "      <td>7512754.0</td>\n",
       "      <td>01</td>\n",
       "      <td>546.0</td>\n",
       "    </tr>\n",
       "    <tr>\n",
       "      <th>5</th>\n",
       "      <td>A002</td>\n",
       "      <td>R051</td>\n",
       "      <td>02-00-00</td>\n",
       "      <td>59 ST NQR456W</td>\n",
       "      <td>01/06/2021</td>\n",
       "      <td>7513790</td>\n",
       "      <td>01/05/2021</td>\n",
       "      <td>7513300.0</td>\n",
       "      <td>01</td>\n",
       "      <td>490.0</td>\n",
       "    </tr>\n",
       "  </tbody>\n",
       "</table>\n",
       "</div>"
      ],
      "text/plain": [
       "    C/A  UNIT       SCP        STATION        DATE  ENTRIES   PREV_DATE  \\\n",
       "1  A002  R051  02-00-00  59 ST NQR456W  01/02/2021  7511996  01/01/2021   \n",
       "2  A002  R051  02-00-00  59 ST NQR456W  01/03/2021  7512214  01/02/2021   \n",
       "3  A002  R051  02-00-00  59 ST NQR456W  01/04/2021  7512754  01/03/2021   \n",
       "4  A002  R051  02-00-00  59 ST NQR456W  01/05/2021  7513300  01/04/2021   \n",
       "5  A002  R051  02-00-00  59 ST NQR456W  01/06/2021  7513790  01/05/2021   \n",
       "\n",
       "   PREV_ENTRIES MONTH  DAILY_ENTRIES  \n",
       "1     7511647.0    01          349.0  \n",
       "2     7511996.0    01          218.0  \n",
       "3     7512214.0    01          540.0  \n",
       "4     7512754.0    01          546.0  \n",
       "5     7513300.0    01          490.0  "
      ]
     },
     "execution_count": 132,
     "metadata": {},
     "output_type": "execute_result"
    }
   ],
   "source": [
    "df5_data.head()"
   ]
  },
  {
   "cell_type": "code",
   "execution_count": 133,
   "metadata": {},
   "outputs": [
    {
     "name": "stdout",
     "output_type": "stream",
     "text": [
      "0.57\n"
     ]
    }
   ],
   "source": [
    "def diff2(end):\n",
    "    days = pd.to_datetime(end) - pd.to_datetime('11/01/2020')\n",
    "    week = float(pd.Timedelta(days).days / 7)\n",
    "    return round(float(week),2)\n",
    "\n",
    "print(diff2(\"11/5/2020\"))"
   ]
  },
  {
   "cell_type": "code",
   "execution_count": 134,
   "metadata": {},
   "outputs": [
    {
     "name": "stdout",
     "output_type": "stream",
     "text": [
      "8\n"
     ]
    }
   ],
   "source": [
    "def diff(end):\n",
    "    days = pd.to_datetime(end) - pd.to_datetime('11/01/2020')\n",
    "    week = int(pd.Timedelta(days).days / 7)\n",
    "    remainder = pd.Timedelta(days).days % 7\n",
    "    return str(week)\n",
    "\n",
    "print(diff(\"01/02/2021\"))"
   ]
  },
  {
   "cell_type": "code",
   "execution_count": 135,
   "metadata": {},
   "outputs": [],
   "source": [
    "df5_data[\"WEEK_idx\"] = df5_data.DATE.apply(diff)"
   ]
  },
  {
   "cell_type": "code",
   "execution_count": 136,
   "metadata": {},
   "outputs": [],
   "source": [
    "df5_data[\"WEEK_idx\"] = pd.to_numeric(df5_data[\"WEEK_idx\"])"
   ]
  },
  {
   "cell_type": "code",
   "execution_count": 137,
   "metadata": {},
   "outputs": [],
   "source": [
    "df5_data[\"WEEK_idx2\"] = df5_data.DATE.apply(diff2)"
   ]
  },
  {
   "cell_type": "code",
   "execution_count": 138,
   "metadata": {},
   "outputs": [],
   "source": [
    "df5_data.sort_values([\"C/A\", \"UNIT\", \"SCP\", \"STATION\", \"WEEK_idx2\"], inplace=True, ascending=True)"
   ]
  },
  {
   "cell_type": "code",
   "execution_count": 139,
   "metadata": {},
   "outputs": [
    {
     "data": {
      "text/html": [
       "<div>\n",
       "<style scoped>\n",
       "    .dataframe tbody tr th:only-of-type {\n",
       "        vertical-align: middle;\n",
       "    }\n",
       "\n",
       "    .dataframe tbody tr th {\n",
       "        vertical-align: top;\n",
       "    }\n",
       "\n",
       "    .dataframe thead th {\n",
       "        text-align: right;\n",
       "    }\n",
       "</style>\n",
       "<table border=\"1\" class=\"dataframe\">\n",
       "  <thead>\n",
       "    <tr style=\"text-align: right;\">\n",
       "      <th></th>\n",
       "      <th>C/A</th>\n",
       "      <th>UNIT</th>\n",
       "      <th>SCP</th>\n",
       "      <th>STATION</th>\n",
       "      <th>DATE</th>\n",
       "      <th>ENTRIES</th>\n",
       "      <th>PREV_DATE</th>\n",
       "      <th>PREV_ENTRIES</th>\n",
       "      <th>MONTH</th>\n",
       "      <th>DAILY_ENTRIES</th>\n",
       "      <th>WEEK_idx</th>\n",
       "      <th>WEEK_idx2</th>\n",
       "    </tr>\n",
       "  </thead>\n",
       "  <tbody>\n",
       "    <tr>\n",
       "      <th>37</th>\n",
       "      <td>A002</td>\n",
       "      <td>R051</td>\n",
       "      <td>02-00-00</td>\n",
       "      <td>59 ST NQR456W</td>\n",
       "      <td>11/01/2020</td>\n",
       "      <td>7481759</td>\n",
       "      <td>10/31/2020</td>\n",
       "      <td>7481453.0</td>\n",
       "      <td>11</td>\n",
       "      <td>306.0</td>\n",
       "      <td>0</td>\n",
       "      <td>0.00</td>\n",
       "    </tr>\n",
       "    <tr>\n",
       "      <th>38</th>\n",
       "      <td>A002</td>\n",
       "      <td>R051</td>\n",
       "      <td>02-00-00</td>\n",
       "      <td>59 ST NQR456W</td>\n",
       "      <td>11/02/2020</td>\n",
       "      <td>7482353</td>\n",
       "      <td>11/01/2020</td>\n",
       "      <td>7481759.0</td>\n",
       "      <td>11</td>\n",
       "      <td>594.0</td>\n",
       "      <td>0</td>\n",
       "      <td>0.14</td>\n",
       "    </tr>\n",
       "    <tr>\n",
       "      <th>39</th>\n",
       "      <td>A002</td>\n",
       "      <td>R051</td>\n",
       "      <td>02-00-00</td>\n",
       "      <td>59 ST NQR456W</td>\n",
       "      <td>11/03/2020</td>\n",
       "      <td>7482836</td>\n",
       "      <td>11/02/2020</td>\n",
       "      <td>7482353.0</td>\n",
       "      <td>11</td>\n",
       "      <td>483.0</td>\n",
       "      <td>0</td>\n",
       "      <td>0.29</td>\n",
       "    </tr>\n",
       "    <tr>\n",
       "      <th>40</th>\n",
       "      <td>A002</td>\n",
       "      <td>R051</td>\n",
       "      <td>02-00-00</td>\n",
       "      <td>59 ST NQR456W</td>\n",
       "      <td>11/04/2020</td>\n",
       "      <td>7483381</td>\n",
       "      <td>11/03/2020</td>\n",
       "      <td>7482836.0</td>\n",
       "      <td>11</td>\n",
       "      <td>545.0</td>\n",
       "      <td>0</td>\n",
       "      <td>0.43</td>\n",
       "    </tr>\n",
       "    <tr>\n",
       "      <th>41</th>\n",
       "      <td>A002</td>\n",
       "      <td>R051</td>\n",
       "      <td>02-00-00</td>\n",
       "      <td>59 ST NQR456W</td>\n",
       "      <td>11/05/2020</td>\n",
       "      <td>7484039</td>\n",
       "      <td>11/04/2020</td>\n",
       "      <td>7483381.0</td>\n",
       "      <td>11</td>\n",
       "      <td>658.0</td>\n",
       "      <td>0</td>\n",
       "      <td>0.57</td>\n",
       "    </tr>\n",
       "  </tbody>\n",
       "</table>\n",
       "</div>"
      ],
      "text/plain": [
       "     C/A  UNIT       SCP        STATION        DATE  ENTRIES   PREV_DATE  \\\n",
       "37  A002  R051  02-00-00  59 ST NQR456W  11/01/2020  7481759  10/31/2020   \n",
       "38  A002  R051  02-00-00  59 ST NQR456W  11/02/2020  7482353  11/01/2020   \n",
       "39  A002  R051  02-00-00  59 ST NQR456W  11/03/2020  7482836  11/02/2020   \n",
       "40  A002  R051  02-00-00  59 ST NQR456W  11/04/2020  7483381  11/03/2020   \n",
       "41  A002  R051  02-00-00  59 ST NQR456W  11/05/2020  7484039  11/04/2020   \n",
       "\n",
       "    PREV_ENTRIES MONTH  DAILY_ENTRIES  WEEK_idx  WEEK_idx2  \n",
       "37     7481453.0    11          306.0         0       0.00  \n",
       "38     7481759.0    11          594.0         0       0.14  \n",
       "39     7482353.0    11          483.0         0       0.29  \n",
       "40     7482836.0    11          545.0         0       0.43  \n",
       "41     7483381.0    11          658.0         0       0.57  "
      ]
     },
     "execution_count": 139,
     "metadata": {},
     "output_type": "execute_result"
    }
   ],
   "source": [
    "df5_data.head()"
   ]
  },
  {
   "cell_type": "code",
   "execution_count": 140,
   "metadata": {},
   "outputs": [],
   "source": [
    "top_stations = df5_data.groupby(['STATION'])[[\"STATION\",'DAILY_ENTRIES']].sum().sort_values(\"DAILY_ENTRIES\", ascending=False).reset_index().head(10)"
   ]
  },
  {
   "cell_type": "code",
   "execution_count": 141,
   "metadata": {},
   "outputs": [
    {
     "data": {
      "text/plain": [
       "0        34 ST-HERALD SQ BDFMNQRW\n",
       "1           GRD CNTRL-42 ST 4567S\n",
       "2                 FLUSHING-MAIN 7\n",
       "3    42 ST-PORT AUTH ACENQRS1237W\n",
       "4                  PATH NEW WTC 1\n",
       "5           JKSN HT-ROOSVLT EFMR7\n",
       "6              34 ST-PENN STA ACE\n",
       "7         14 ST-UNION SQ LNQR456W\n",
       "8            59 ST COLUMBUS ABCD1\n",
       "9                CANAL ST JNQRZ6W\n",
       "Name: STATION, dtype: object"
      ]
     },
     "execution_count": 141,
     "metadata": {},
     "output_type": "execute_result"
    }
   ],
   "source": [
    "top_stations.STATION"
   ]
  },
  {
   "cell_type": "code",
   "execution_count": 142,
   "metadata": {},
   "outputs": [],
   "source": [
    "df5_data_test = df5_data.copy()"
   ]
  },
  {
   "cell_type": "code",
   "execution_count": 143,
   "metadata": {},
   "outputs": [],
   "source": [
    "df5_data_NOV = df5_data_test[(df5_data_test['MONTH'] == '11') &\n",
    "                            ((df5_data_test['STATION'] == \"34 ST-HERALD SQ BDFMNQRW\") |\n",
    "                            (df5_data_test['STATION'] == \"GRD CNTRL-42 ST 4567S\") |\n",
    "                            (df5_data_test['STATION'] == \"FLUSHING-MAIN 7\") | \n",
    "                            (df5_data_test['STATION'] == \"42 ST-PORT AUTH ACENQRS1237W\") |\n",
    "                            (df5_data_test['STATION'] == \"PATH NEW WTC 1\") |\n",
    "                            (df5_data_test['STATION'] == \"JKSN HT-ROOSVLT EFMR7\") |\n",
    "                            (df5_data_test['STATION'] == \"34 ST-PENN STA ACE\") |\n",
    "                            (df5_data_test['STATION'] == \"14 ST-UNION SQ LNQR456W\") |\n",
    "                            (df5_data_test['STATION'] == \"59 ST COLUMBUS ABCD1\") |\n",
    "                            (df5_data_test['STATION'] == \"CANAL ST JNQRZ6W\"))].reset_index()"
   ]
  },
  {
   "cell_type": "code",
   "execution_count": 146,
   "metadata": {},
   "outputs": [],
   "source": [
    "df5_data_DEC = df5_data_test[(df5_data_test['MONTH'] == '12') &\n",
    "                            ((df5_data_test['STATION'] == \"34 ST-HERALD SQ BDFMNQRW\") |\n",
    "                            (df5_data_test['STATION'] == \"GRD CNTRL-42 ST 4567S\") |\n",
    "                            (df5_data_test['STATION'] == \"FLUSHING-MAIN 7\") | \n",
    "                            (df5_data_test['STATION'] == \"42 ST-PORT AUTH ACENQRS1237W\") |\n",
    "                            (df5_data_test['STATION'] == \"PATH NEW WTC 1\") |\n",
    "                            (df5_data_test['STATION'] == \"JKSN HT-ROOSVLT EFMR7\") |\n",
    "                            (df5_data_test['STATION'] == \"34 ST-PENN STA ACE\") |\n",
    "                            (df5_data_test['STATION'] == \"14 ST-UNION SQ LNQR456W\") |\n",
    "                            (df5_data_test['STATION'] == \"59 ST COLUMBUS ABCD1\") |\n",
    "                            (df5_data_test['STATION'] == \"CANAL ST JNQRZ6W\"))].reset_index()"
   ]
  },
  {
   "cell_type": "code",
   "execution_count": 148,
   "metadata": {},
   "outputs": [],
   "source": [
    "df5_data_JAN = df5_data_test[(df5_data_test['MONTH'] == '01') &\n",
    "                            ((df5_data_test['STATION'] == \"34 ST-HERALD SQ BDFMNQRW\") |\n",
    "                            (df5_data_test['STATION'] == \"GRD CNTRL-42 ST 4567S\") |\n",
    "                            (df5_data_test['STATION'] == \"FLUSHING-MAIN 7\") | \n",
    "                            (df5_data_test['STATION'] == \"42 ST-PORT AUTH ACENQRS1237W\") |\n",
    "                            (df5_data_test['STATION'] == \"PATH NEW WTC 1\") |\n",
    "                            (df5_data_test['STATION'] == \"JKSN HT-ROOSVLT EFMR7\") |\n",
    "                            (df5_data_test['STATION'] == \"34 ST-PENN STA ACE\") |\n",
    "                            (df5_data_test['STATION'] == \"14 ST-UNION SQ LNQR456W\") |\n",
    "                            (df5_data_test['STATION'] == \"59 ST COLUMBUS ABCD1\") |\n",
    "                            (df5_data_test['STATION'] == \"CANAL ST JNQRZ6W\"))].reset_index()"
   ]
  },
  {
   "cell_type": "code",
   "execution_count": 149,
   "metadata": {},
   "outputs": [],
   "source": [
    "df5_data_NOV_groupped = df5_data_NOV.groupby(['STATION'])[[\"DAILY_ENTRIES\"]].sum().reset_index()"
   ]
  },
  {
   "cell_type": "code",
   "execution_count": 150,
   "metadata": {},
   "outputs": [],
   "source": [
    "df5_data_DEC_groupped = df5_data_DEC.groupby(['STATION'])[[\"DAILY_ENTRIES\"]].sum().reset_index()"
   ]
  },
  {
   "cell_type": "code",
   "execution_count": 151,
   "metadata": {},
   "outputs": [],
   "source": [
    "df5_data_JAN_groupped = df5_data_JAN.groupby(['STATION'])[[\"DAILY_ENTRIES\"]].sum().reset_index()"
   ]
  },
  {
   "cell_type": "code",
   "execution_count": 152,
   "metadata": {},
   "outputs": [
    {
     "data": {
      "text/plain": [
       "<matplotlib.legend.Legend at 0x7ff4cfd882e0>"
      ]
     },
     "execution_count": 152,
     "metadata": {},
     "output_type": "execute_result"
    },
    {
     "data": {
      "image/png": "[encoded data removed]",
      "text/plain": [
       "<Figure size 576x360 with 1 Axes>"
      ]
     },
     "metadata": {
      "needs_background": "light"
     },
     "output_type": "display_data"
    }
   ],
   "source": [
    "plt.figure(figsize = [8,5])\n",
    "x = top_stations.DAILY_ENTRIES\n",
    "y = top_stations.STATION\n",
    "plt.xlabel(\"Total entries (m)\", fontsize = 15)\n",
    "plt.ylabel(\"Name of Stations\", fontsize = 15)\n",
    "plt.barh(y,x)\n",
    "plt.legend(['Top 10 Stations - sum entires'], fontsize = 10)"
   ]
  },
  {
   "cell_type": "code",
   "execution_count": 171,
   "metadata": {},
   "outputs": [
    {
     "data": {
      "image/png": "[encoded data removed]",
      "text/plain": [
       "<Figure size 1224x648 with 1 Axes>"
      ]
     },
     "metadata": {
      "needs_background": "light"
     },
     "output_type": "display_data"
    }
   ],
   "source": [
    "import numpy as np\n",
    "import matplotlib.pyplot as plt\n",
    "\n",
    "plt.figure(figsize = [17,9])\n",
    " \n",
    "barWidth = 0.25\n",
    " \n",
    "bars1 = [851625.0, 604733.0, 572213.0, 532236.0, 455628.0, 515800.0, 464674.0, 387970.0, 351861.0, 277064.0]\n",
    "bars2 = [781285.0, 600135.0, 567162.0, 528066.0, 495574.0, 511207.0, 422799.0, 377140.0, 345092.0, 266929.0]\n",
    "bars3 = [650494.0, 602251.0, 513966.0, 548955.0, 603872.0, 477479.0, 408284.0, 332423.0, 313095.0, 447845.0]\n",
    " \n",
    "r1 = np.arange(len(bars1))\n",
    "r2 = [x + barWidth for x in r1]\n",
    "r3 = [x + barWidth for x in r2]\n",
    " \n",
    "plt.bar(r1, bars1, color='#7f6d5f', width=barWidth, edgecolor='white', label='Nov total traffic')\n",
    "plt.bar(r2, bars2, color='#557f2d', width=barWidth, edgecolor='white', label='Dec total traffic')\n",
    "plt.bar(r3, bars3, color='#2d7f5e', width=barWidth, edgecolor='white', label='Jan total traffic')\n",
    " \n",
    "plt.xlabel('Name of Stations', fontweight='bold', fontsize = 15)\n",
    "plt.xticks([r + barWidth for r in range(len(bars1))], ['34 ST-HERALD SQ', 'GRD CNTRL-42 ST', 'FLUSHING-MAIN', '42 ST-PORT AUTH', 'PATH NEW WTC','JKSN HT-ROOSVLT', '34 ST-PENN STA','14 ST-UNION SQ','59 ST COLUMBUS','CANAL ST'], rotation=45)\n",
    "plt.ylabel('Total Number of Entries (m)', fontsize = 15, fontweight='bold')\n",
    "\n",
    "plt.legend()\n",
    "plt.show()"
   ]
  },
  {
   "cell_type": "code",
   "execution_count": null,
   "metadata": {},
   "outputs": [],
   "source": [
    "['34 ST-HERALD SQ BDFMNQRW', 'GRD CNTRL-42 ST 4567S', 'FLUSHING-MAIN 7', '42 ST-PORT AUTH ACENQRS1237W', 'PATH NEW WTC 1','JKSN HT-ROOSVLT EFMR7', '34 ST-PENN STA ACE','14 ST-UNION SQ LNQR456W','59 ST COLUMBUS ABCD1','CANAL ST JNQRZ6W']"
   ]
  },
  {
   "cell_type": "code",
   "execution_count": 202,
   "metadata": {},
   "outputs": [],
   "source": [
    "mask1 = ((df5_data_test['MONTH'] == '11') & (df5_data_test['STATION'] == \"34 ST-HERALD SQ BDFMNQRW\"))"
   ]
  },
  {
   "cell_type": "code",
   "execution_count": 203,
   "metadata": {},
   "outputs": [],
   "source": [
    "mask2 = ((df5_data_test['MONTH'] == '11') & (df5_data_test['STATION'] == \"GRD CNTRL-42 ST 4567S\"))"
   ]
  },
  {
   "cell_type": "code",
   "execution_count": 204,
   "metadata": {},
   "outputs": [],
   "source": [
    "mask3 = ((df5_data_test['MONTH'] == '11') & (df5_data_test['STATION'] == \"FLUSHING-MAIN 7\"))"
   ]
  },
  {
   "cell_type": "code",
   "execution_count": 205,
   "metadata": {},
   "outputs": [],
   "source": [
    "mask4 = ((df5_data_test['MONTH'] == '01') & (df5_data_test['STATION'] == \"42 ST-PORT AUTH ACENQRS1237W\"))"
   ]
  },
  {
   "cell_type": "code",
   "execution_count": 206,
   "metadata": {},
   "outputs": [],
   "source": [
    "mask5 = ((df5_data_test['MONTH'] == '01') & (df5_data_test['STATION'] == \"PATH NEW WTC 1\"))"
   ]
  },
  {
   "cell_type": "code",
   "execution_count": 207,
   "metadata": {},
   "outputs": [
    {
     "data": {
      "text/plain": [
       "WEEK_idx\n",
       "0    173620.0\n",
       "1    180244.0\n",
       "2    302819.0\n",
       "3    154641.0\n",
       "4     40301.0\n",
       "Name: DAILY_ENTRIES, dtype: float64"
      ]
     },
     "execution_count": 207,
     "metadata": {},
     "output_type": "execute_result"
    }
   ],
   "source": [
    "df5_data_test[mask1].groupby(['WEEK_idx']).DAILY_ENTRIES.sum()"
   ]
  },
  {
   "cell_type": "code",
   "execution_count": 208,
   "metadata": {},
   "outputs": [
    {
     "data": {
      "text/plain": [
       "WEEK_idx\n",
       "0    149508.0\n",
       "1    154357.0\n",
       "2    154487.0\n",
       "3    114532.0\n",
       "4     31849.0\n",
       "Name: DAILY_ENTRIES, dtype: float64"
      ]
     },
     "execution_count": 208,
     "metadata": {},
     "output_type": "execute_result"
    }
   ],
   "source": [
    "df5_data_test[mask2].groupby(['WEEK_idx']).DAILY_ENTRIES.sum()"
   ]
  },
  {
   "cell_type": "code",
   "execution_count": 209,
   "metadata": {},
   "outputs": [
    {
     "data": {
      "text/plain": [
       "WEEK_idx\n",
       "8      11384.0\n",
       "9     122460.0\n",
       "10    122517.0\n",
       "11    119010.0\n",
       "12    165408.0\n",
       "13      8176.0\n",
       "Name: DAILY_ENTRIES, dtype: float64"
      ]
     },
     "execution_count": 209,
     "metadata": {},
     "output_type": "execute_result"
    }
   ],
   "source": [
    "df5_data_test[mask4].groupby(['WEEK_idx']).DAILY_ENTRIES.sum()"
   ]
  },
  {
   "cell_type": "code",
   "execution_count": 210,
   "metadata": {},
   "outputs": [
    {
     "data": {
      "text/plain": [
       "WEEK_idx\n",
       "8       5986.0\n",
       "9     141539.0\n",
       "10    187852.0\n",
       "11    108603.0\n",
       "12    155675.0\n",
       "13      4217.0\n",
       "Name: DAILY_ENTRIES, dtype: float64"
      ]
     },
     "execution_count": 210,
     "metadata": {},
     "output_type": "execute_result"
    }
   ],
   "source": [
    "df5_data_test[mask5].groupby(['WEEK_idx']).DAILY_ENTRIES.sum()"
   ]
  },
  {
   "cell_type": "code",
   "execution_count": 211,
   "metadata": {},
   "outputs": [
    {
     "data": {
      "text/plain": [
       "<matplotlib.legend.Legend at 0x7ff4a67cb2b0>"
      ]
     },
     "execution_count": 211,
     "metadata": {},
     "output_type": "execute_result"
    },
    {
     "data": {
      "image/png": "[encoded data removed]",
      "text/plain": [
       "<Figure size 1224x648 with 2 Axes>"
      ]
     },
     "metadata": {
      "needs_background": "light"
     },
     "output_type": "display_data"
    }
   ],
   "source": [
    "plt.figure(figsize = [17,9])\n",
    "\n",
    "plt.subplot(1,2,1)\n",
    "x = df5_data_test[mask1].groupby(['WEEK_idx']).DAILY_ENTRIES.sum()\n",
    "plt.plot(x, c = 'r')\n",
    "x2 = df5_data_test[mask2].groupby(['WEEK_idx']).DAILY_ENTRIES.sum()\n",
    "plt.plot(x2, c = 'b')\n",
    "x3 = df5_data_test[mask3].groupby(['WEEK_idx']).DAILY_ENTRIES.sum()\n",
    "plt.plot(x3, c = 'g')\n",
    "plt.ylabel(\"Number of entries\", fontsize = 15)\n",
    "plt.xlabel(\"1-4th weeks of investigated period (1st - 30th Nov)\", fontsize = 15)\n",
    "plt.legend(['34 ST-HERALD','GRD CNTRL-42 ST','FLUSHING-MAIN'], loc=0)\n",
    "\n",
    "\n",
    "plt.subplot(1,2,2)\n",
    "x = df5_data_test[mask4].groupby(['WEEK_idx']).DAILY_ENTRIES.sum()\n",
    "plt.plot(x, c = 'r')\n",
    "x2 = df5_data_test[mask5].groupby(['WEEK_idx']).DAILY_ENTRIES.sum()\n",
    "plt.plot(x2, c = 'b')\n",
    "plt.xlabel(\"8-13th weeks of investigated period (1st - 31th Jan)\", fontsize = 15)\n",
    "plt.ylabel(\"Number of entries\", fontsize = 15)\n",
    "plt.legend(['42 ST-PORT AUTH','PATH NEW WTC'], loc=0)\n",
    "\n"
   ]
  },
  {
   "cell_type": "code",
   "execution_count": 174,
   "metadata": {},
   "outputs": [],
   "source": [
    "df5_data_test[\"DATE_TIME_2\"] = pd.to_datetime(df5_data_test.DATE)"
   ]
  },
  {
   "cell_type": "code",
   "execution_count": 177,
   "metadata": {},
   "outputs": [],
   "source": [
    "df5_data_test['Day_of_week'] = df5_data_test.DATE_TIME_2.dt.dayofweek"
   ]
  },
  {
   "cell_type": "code",
   "execution_count": 212,
   "metadata": {},
   "outputs": [],
   "source": [
    "mask6 = (df5_data_test['STATION'] == \"34 ST-HERALD SQ BDFMNQRW\")"
   ]
  },
  {
   "cell_type": "code",
   "execution_count": 213,
   "metadata": {},
   "outputs": [],
   "source": [
    "mask7 = (df5_data_test['STATION'] == \"GRD CNTRL-42 ST 4567S\")"
   ]
  },
  {
   "cell_type": "code",
   "execution_count": 214,
   "metadata": {},
   "outputs": [],
   "source": [
    "mask8 = (df5_data_test['STATION'] == \"FLUSHING-MAIN 7\")"
   ]
  },
  {
   "cell_type": "code",
   "execution_count": 215,
   "metadata": {},
   "outputs": [],
   "source": [
    "mask9 = (df5_data_test['STATION'] == \"42 ST-PORT AUTH ACENQRS1237W\")"
   ]
  },
  {
   "cell_type": "code",
   "execution_count": 216,
   "metadata": {},
   "outputs": [],
   "source": [
    "mask10 = (df5_data_test['STATION'] == \"PATH NEW WTC 1\")"
   ]
  },
  {
   "cell_type": "code",
   "execution_count": 217,
   "metadata": {},
   "outputs": [],
   "source": [
    "df5_data_test_dayofweeks_mean1 = df5_data_test[mask6].groupby([\"Day_of_week\"])[[\"DAILY_ENTRIES\"]].mean()"
   ]
  },
  {
   "cell_type": "code",
   "execution_count": 218,
   "metadata": {},
   "outputs": [],
   "source": [
    "df5_data_test_dayofweeks_mean2 = df5_data_test[mask7].groupby([\"Day_of_week\"])[[\"DAILY_ENTRIES\"]].mean()"
   ]
  },
  {
   "cell_type": "code",
   "execution_count": 219,
   "metadata": {},
   "outputs": [],
   "source": [
    "df5_data_test_dayofweeks_mean3 = df5_data_test[mask8].groupby([\"Day_of_week\"])[[\"DAILY_ENTRIES\"]].mean()"
   ]
  },
  {
   "cell_type": "code",
   "execution_count": 220,
   "metadata": {},
   "outputs": [],
   "source": [
    "df5_data_test_dayofweeks_mean4 = df5_data_test[mask9].groupby([\"Day_of_week\"])[[\"DAILY_ENTRIES\"]].mean()"
   ]
  },
  {
   "cell_type": "code",
   "execution_count": 221,
   "metadata": {},
   "outputs": [],
   "source": [
    "df5_data_test_dayofweeks_mean5 = df5_data_test[mask10].groupby([\"Day_of_week\"])[[\"DAILY_ENTRIES\"]].mean()"
   ]
  },
  {
   "cell_type": "code",
   "execution_count": 222,
   "metadata": {},
   "outputs": [
    {
     "data": {
      "text/plain": [
       "<matplotlib.legend.Legend at 0x7ff49b69e2b0>"
      ]
     },
     "execution_count": 222,
     "metadata": {},
     "output_type": "execute_result"
    },
    {
     "data": {
      "image/png": "[encoded data removed]",
      "text/plain": [
       "<Figure size 1224x648 with 5 Axes>"
      ]
     },
     "metadata": {
      "needs_background": "light"
     },
     "output_type": "display_data"
    }
   ],
   "source": [
    "plt.figure(figsize = [17,9])\n",
    "\n",
    "plt.subplot(2,3,1)\n",
    "x = df5_data_test_dayofweeks_mean1\n",
    "plt.xlabel(\"Days of weeks 0-6, Mond - Sun\")\n",
    "plt.ylabel(\"Avg entries per days of weeks\", fontsize = 15)\n",
    "plt.plot(x)\n",
    "plt.legend(['34 ST-HERALD SQ'], loc=0)\n",
    "\n",
    "\n",
    "plt.subplot(2,3,2)\n",
    "x = df5_data_test_dayofweeks_mean2\n",
    "plt.xlabel(\"Days of weeks 0-6, Mond - Sun\")\n",
    "plt.plot(x)\n",
    "plt.legend(['GRD CNTRL-42 ST'], loc=0)\n",
    "\n",
    "\n",
    "plt.subplot(2,3,3)\n",
    "x = df5_data_test_dayofweeks_mean3\n",
    "plt.xlabel(\"Days of weeks 0-6, Mond - Sun\")\n",
    "plt.plot(x)\n",
    "plt.legend(['FLUSHING-MAIN 7'], loc=0)\n",
    "\n",
    "\n",
    "plt.subplot(2,3,4)\n",
    "x = df5_data_test_dayofweeks_mean4\n",
    "plt.xlabel(\"Days of weeks 0-6, Mond - Sun\")\n",
    "plt.ylabel(\"Avg entries per days of weeks\", fontsize = 15)\n",
    "plt.ylabel(\"Number of entries\", fontsize = 15)\n",
    "plt.plot(x)\n",
    "plt.legend(['42 ST-PORT AUTH ACENQRS1237W'], loc=0)\n",
    "\n",
    "\n",
    "plt.subplot(2,3,5)\n",
    "x = df5_data_test_dayofweeks_mean5\n",
    "plt.xlabel(\"Days of weeks 0-6, Mond - Sun\")\n",
    "plt.plot(x)\n",
    "plt.legend(['PATH NEW WTC 1'], loc=0)"
   ]
  }
 ],
 "metadata": {
  "kernelspec": {
   "display_name": "Python 3",
   "language": "python",
   "name": "python3"
  },
  "language_info": {
   "codemirror_mode": {
    "name": "ipython",
    "version": 3
   },
   "file_extension": ".py",
   "mimetype": "text/x-python",
   "name": "python",
   "nbconvert_exporter": "python",
   "pygments_lexer": "ipython3",
   "version": "3.8.5"
  }
 },
 "nbformat": 4,
 "nbformat_minor": 4
}
